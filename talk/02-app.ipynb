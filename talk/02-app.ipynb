{
 "cells": [
  {
   "cell_type": "markdown",
   "id": "a4a4afc9-8b0b-490b-b44b-bf2c1eaeaa0a",
   "metadata": {
    "@deathbeds/jupyterlab-fonts": {
     "styles": {
      "": {
       "body[data-jp-deck-mode='presenting'] &": {
        "height": "10.751591435185185%",
        "left": "2.3958333333333335%",
        "position": "fixed",
        "top": "2.03125%",
        "width": "48.020833333333336%"
       }
      }
     }
    },
    "slideshow": {
     "slide_type": "slide"
    },
    "tags": []
   },
   "source": [
    "# **serve** with `tornado`"
   ]
  },
  {
   "cell_type": "code",
   "execution_count": null,
   "id": "ff19277a-0063-477a-9d10-df527ffc7ea2",
   "metadata": {
    "@deathbeds/jupyterlab-fonts": {
     "styles": {
      "": {
       "body[data-jp-deck-mode='presenting'] &": {
        "height": "13.240740740740742%",
        "left": "2.3958333333333335%",
        "position": "fixed",
        "top": "14.305555555555555%",
        "width": "48.125%"
       }
      }
     }
    },
    "tags": []
   },
   "outputs": [],
   "source": [
    "%%file app.py\n",
    "import asyncio\n",
    "from tornado import web\n",
    "import fib\n",
    "\n",
    "class FibHandler(web.RequestHandler):\n",
    "    def get(self, n):\n",
    "        self.write({\"result\": fib.fib(int(n))})\n",
    "\n",
    "async def main():\n",
    "    app = web.Application([\n",
    "        (r\"/fib/(?P<n>\\d*)\", FibHandler)\n",
    "    ])\n",
    "    app.listen(8899)\n",
    "    await asyncio.Event().wait()\n",
    "\n",
    "if __name__ == \"__main__\":\n",
    "    asyncio.run(main())"
   ]
  },
  {
   "cell_type": "code",
   "execution_count": null,
   "id": "df1617d8-4280-4546-b458-db72c9855b02",
   "metadata": {
    "@deathbeds/jupyterlab-fonts": {
     "styles": {
      "": {
       "body[data-jp-deck-mode='presenting'] &": {
        "height": "13.240740740740742%",
        "left": "51.354166666666664%",
        "position": "fixed",
        "top": "14.49074074074074%",
        "width": "44.375%"
       }
      }
     }
    },
    "tags": []
   },
   "outputs": [],
   "source": [
    "import asyncio, anyio\n",
    "async def serve():\n",
    "    await anyio.run_process([\"python\", \"app.py\"])\n",
    "asyncio.create_task(serve())"
   ]
  },
  {
   "cell_type": "markdown",
   "id": "7ec79f9f-002c-4007-bf2c-a7769ffcb8f7",
   "metadata": {
    "@deathbeds/jupyterlab-fonts": {
     "styles": {
      "": {
       "body[data-jp-deck-mode='presenting'] &": {
        "height": "8.959056712962964%",
        "left": "51.45833333333333%",
        "position": "fixed",
        "top": "39.08420138888889%",
        "width": "45.416666666666664%"
       }
      }
     }
    },
    "slideshow": {
     "slide_type": "fragment"
    },
    "tags": []
   },
   "source": [
    "## **request** with a client"
   ]
  },
  {
   "cell_type": "code",
   "execution_count": null,
   "id": "18ed4dbe-7713-454b-8ff3-a0335f1275a5",
   "metadata": {
    "@deathbeds/jupyterlab-fonts": {
     "styles": {
      "": {
       "body[data-jp-deck-mode='presenting'] &": {
        "height": "13.981481481481481%",
        "left": "51.5625%",
        "position": "fixed",
        "top": "49.12037037037037%",
        "width": "45.416666666666664%"
       }
      }
     }
    }
   },
   "outputs": [],
   "source": [
    "from tornado.httpclient import AsyncHTTPClient \n",
    "r = await AsyncHTTPClient().fetch(\n",
    "    \"http://127.0.0.1:8899/fib/10\"\n",
    ")\n",
    "r.body"
   ]
  },
  {
   "cell_type": "markdown",
   "id": "86ae3553-6981-4879-bbdb-fc3937fa5d99",
   "metadata": {
    "@deathbeds/jupyterlab-fonts": {
     "styles": {
      "": {
       "body[data-jp-deck-mode='presenting'] &": {
        "height": "0%",
        "left": "2.2916666666666665%",
        "position": "fixed",
        "top": "87.96296296296296%",
        "width": "93.33333333333333%"
       }
      }
     }
    }
   },
   "source": [
    " "
   ]
  },
  {
   "cell_type": "markdown",
   "id": "a6ce37b4-1909-41bf-bee4-c009efabe1da",
   "metadata": {
    "@deathbeds/jupyterlab-fonts": {
     "styles": {
      "": {
       "body[data-jp-deck-mode='presenting'] &": {
        "height": "12.405237268518517%",
        "left": "2.8125%",
        "position": "fixed",
        "top": "-0.740017361111111%",
        "width": "63.33333333333333%"
       }
      }
     }
    },
    "slideshow": {
     "slide_type": "slide"
    },
    "tags": []
   },
   "source": [
    "# **acceptance** test with `robotframework`"
   ]
  },
  {
   "cell_type": "code",
   "execution_count": null,
   "id": "d24a2085-d916-487d-a51f-a5b593af2da5",
   "metadata": {
    "@deathbeds/jupyterlab-fonts": {
     "styles": {
      "": {
       "body[data-jp-deck-mode='presenting'] &": {
        "height": "4.722222222222222%",
        "left": "61.875%",
        "position": "fixed",
        "top": "3.1018518518518516%",
        "width": "36.354166666666664%"
       }
      }
     }
    }
   },
   "outputs": [],
   "source": [
    "%reload_ext JupyterLibrary"
   ]
  },
  {
   "cell_type": "code",
   "execution_count": null,
   "id": "10609b81-64f1-411a-a9ab-5afb9934615e",
   "metadata": {
    "@deathbeds/jupyterlab-fonts": {
     "styles": {
      "": {
       "body[data-jp-deck-mode='presenting'] &": {
        "height": "33.611111111111114%",
        "left": "2.9166666666666665%",
        "position": "fixed",
        "top": "9.953703703703704%",
        "width": "95.9375%"
       }
      }
     }
    },
    "scrolled": true,
    "tags": []
   },
   "outputs": [],
   "source": [
    "%%robot\n",
    "*** Settings ***\n",
    "Library           SeleniumLibrary\n",
    "*** Tasks ***\n",
    "Get the 10th Fibonacci Number\n",
    "    Open Browser  http://127.0.0.1:8899/fib/10\n",
    "    Wait Until Page Contains   {\"result\": 55}\n",
    "    Capture Page Screenshot\n",
    "    [Teardown]   Close All Browsers"
   ]
  },
  {
   "cell_type": "markdown",
   "id": "f47c4814-e050-4794-96c5-7785d55a8c59",
   "metadata": {
    "slideshow": {
     "slide_type": "slide"
    },
    "tags": []
   },
   "source": [
    "# **conformance** test with `schemathesis`"
   ]
  },
  {
   "cell_type": "markdown",
   "id": "1805891b-d823-4d61-b266-41a52e942518",
   "metadata": {
    "slideshow": {
     "slide_type": "slide"
    },
    "tags": []
   },
   "source": [
    "# **load** test with `locust`"
   ]
  }
 ],
 "metadata": {
  "kernelspec": {
   "display_name": "Python 3 (ipykernel)",
   "language": "python",
   "name": "python3"
  },
  "language_info": {
   "codemirror_mode": {
    "name": "ipython",
    "version": 3
   },
   "file_extension": ".py",
   "mimetype": "text/x-python",
   "name": "python",
   "nbconvert_exporter": "python",
   "pygments_lexer": "ipython3",
   "version": "3.10.6"
  }
 },
 "nbformat": 4,
 "nbformat_minor": 5
}
