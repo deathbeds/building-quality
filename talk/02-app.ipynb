{
 "cells": [
  {
   "cell_type": "markdown",
   "id": "a4a4afc9-8b0b-490b-b44b-bf2c1eaeaa0a",
   "metadata": {
    "@deathbeds/jupyterlab-fonts": {
     "styles": {
      "": {
       "body[data-jp-deck-mode='presenting'] &": {
        "height": "10.751591435185185%",
        "left": "2.3958333333333335%",
        "position": "fixed",
        "top": "2.03125%",
        "width": "48.020833333333336%"
       }
      }
     }
    },
    "slideshow": {
     "slide_type": "slide"
    },
    "tags": []
   },
   "source": [
    "# **serve** with `tornado`"
   ]
  },
  {
   "cell_type": "code",
   "execution_count": null,
   "id": "ff19277a-0063-477a-9d10-df527ffc7ea2",
   "metadata": {
    "@deathbeds/jupyterlab-fonts": {
     "styles": {
      "": {
       "body[data-jp-deck-mode='presenting'] &": {
        "height": "13.240740740740742%",
        "left": "2.3958333333333335%",
        "position": "fixed",
        "top": "14.305555555555555%",
        "width": "48.125%"
       }
      }
     }
    },
    "tags": []
   },
   "outputs": [],
   "source": [
    "from tornado import web\n",
    "app = web.Application()\n",
    "app.listen(8899);"
   ]
  },
  {
   "cell_type": "markdown",
   "id": "5572cab1-5cb4-4853-9681-5d19d6a88431",
   "metadata": {
    "@deathbeds/jupyterlab-fonts": {
     "styles": {
      "": {
       "body[data-jp-deck-mode='presenting'] &": {
        "height": "8.959056712962964%",
        "left": "2.2916666666666665%",
        "position": "fixed",
        "top": "35.5201099537037%",
        "width": "48.4375%"
       }
      }
     }
    },
    "slideshow": {
     "slide_type": "fragment"
    },
    "tags": []
   },
   "source": [
    "## **handle** a request"
   ]
  },
  {
   "cell_type": "code",
   "execution_count": null,
   "id": "e3beadc3-312f-4d99-aa08-e46ce52f3c95",
   "metadata": {
    "@deathbeds/jupyterlab-fonts": {
     "styles": {
      "": {
       "body[data-jp-deck-mode='presenting'] &": {
        "height": "20.64814814814815%",
        "left": "2.2916666666666665%",
        "position": "fixed",
        "top": "45.97728587962963%",
        "width": "43.854166666666664%"
       }
      }
     }
    },
    "tags": []
   },
   "outputs": [],
   "source": [
    "from fib import fib_typed\n",
    "class FibHandler(web.RequestHandler):\n",
    "    def get(self, n):\n",
    "        self.write(str(fib_typed(int(n))))\n",
    "app.add_handlers(\".*\", [\n",
    "    (r\"/fib/(?P<n>\\d*)\", FibHandler)\n",
    "])"
   ]
  },
  {
   "cell_type": "markdown",
   "id": "7ec79f9f-002c-4007-bf2c-a7769ffcb8f7",
   "metadata": {
    "@deathbeds/jupyterlab-fonts": {
     "styles": {
      "": {
       "body[data-jp-deck-mode='presenting'] &": {
        "height": "8.959056712962964%",
        "left": "51.354166666666664%",
        "position": "fixed",
        "top": "4.084201388888889%",
        "width": "45.416666666666664%"
       }
      }
     }
    },
    "slideshow": {
     "slide_type": "fragment"
    },
    "tags": []
   },
   "source": [
    "## **request** with a client"
   ]
  },
  {
   "cell_type": "code",
   "execution_count": null,
   "id": "18ed4dbe-7713-454b-8ff3-a0335f1275a5",
   "metadata": {
    "@deathbeds/jupyterlab-fonts": {
     "styles": {
      "": {
       "body[data-jp-deck-mode='presenting'] &": {
        "height": "13.981481481481481%",
        "left": "51.354166666666664%",
        "position": "fixed",
        "top": "14.49074074074074%",
        "width": "45.416666666666664%"
       }
      }
     }
    }
   },
   "outputs": [],
   "source": [
    "from tornado.httpclient import AsyncHTTPClient \n",
    "r = await AsyncHTTPClient().fetch(\n",
    "    \"http://127.0.0.1:8899/fib/10\"\n",
    ")\n",
    "r.body"
   ]
  },
  {
   "cell_type": "markdown",
   "id": "86ae3553-6981-4879-bbdb-fc3937fa5d99",
   "metadata": {
    "@deathbeds/jupyterlab-fonts": {
     "styles": {
      "": {
       "body[data-jp-deck-mode='presenting'] &": {
        "height": "0%",
        "left": "2.2916666666666665%",
        "position": "fixed",
        "top": "87.96296296296296%",
        "width": "93.33333333333333%"
       }
      }
     }
    }
   },
   "source": [
    " "
   ]
  },
  {
   "cell_type": "markdown",
   "id": "a6ce37b4-1909-41bf-bee4-c009efabe1da",
   "metadata": {
    "slideshow": {
     "slide_type": "slide"
    },
    "tags": []
   },
   "source": [
    "# **acceptance** testing with `robotframework`"
   ]
  },
  {
   "cell_type": "markdown",
   "id": "f47c4814-e050-4794-96c5-7785d55a8c59",
   "metadata": {
    "slideshow": {
     "slide_type": "slide"
    },
    "tags": []
   },
   "source": [
    "# **conformance** testing with `schemathesis`"
   ]
  },
  {
   "cell_type": "markdown",
   "id": "1805891b-d823-4d61-b266-41a52e942518",
   "metadata": {
    "slideshow": {
     "slide_type": "slide"
    },
    "tags": []
   },
   "source": [
    "# load testing with `locust`"
   ]
  }
 ],
 "metadata": {
  "kernelspec": {
   "display_name": "Python 3 (ipykernel)",
   "language": "python",
   "name": "python3"
  },
  "language_info": {
   "codemirror_mode": {
    "name": "ipython",
    "version": 3
   },
   "file_extension": ".py",
   "mimetype": "text/x-python",
   "name": "python",
   "nbconvert_exporter": "python",
   "pygments_lexer": "ipython3",
   "version": "3.10.6"
  }
 },
 "nbformat": 4,
 "nbformat_minor": 5
}
