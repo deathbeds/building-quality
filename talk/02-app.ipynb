{
 "cells": [
  {
   "cell_type": "markdown",
   "id": "a4a4afc9-8b0b-490b-b44b-bf2c1eaeaa0a",
   "metadata": {
    "@deathbeds/jupyterlab-fonts": {
     "styles": {
      "": {
       "body[data-jp-deck-mode='presenting'] &": {
        "height": "10.751591435185185%",
        "left": "2.3958333333333335%",
        "position": "fixed",
        "top": "2.03125%",
        "width": "48.020833333333336%"
       }
      }
     }
    },
    "slideshow": {
     "slide_type": "slide"
    },
    "tags": []
   },
   "source": [
    "# **serve** with `tornado`"
   ]
  },
  {
   "cell_type": "code",
   "execution_count": null,
   "id": "ff19277a-0063-477a-9d10-df527ffc7ea2",
   "metadata": {
    "@deathbeds/jupyterlab-fonts": {
     "styles": {
      "": {
       "body[data-jp-deck-mode='presenting'] &": {
        "height": "13.240740740740742%",
        "left": "2.3958333333333335%",
        "position": "fixed",
        "top": "14.305555555555555%",
        "width": "48.125%"
       }
      }
     }
    },
    "tags": []
   },
   "outputs": [],
   "source": [
    "%%file app.py\n",
    "import asyncio\n",
    "from tornado import web\n",
    "import fib\n",
    "\n",
    "class FibHandler(web.RequestHandler):\n",
    "    def get(self, n):\n",
    "        self.write({\"result\": fib.fib(int(n))})\n",
    "\n",
    "async def main():\n",
    "    app = web.Application([\n",
    "        (r\"/fib/(?P<n>\\d*)\", FibHandler),\n",
    "        (r\"/static/(.*)\", web.StaticFileHandler, {\"path\": \".\"}),\n",
    "    ])\n",
    "    app.listen(8899)\n",
    "    await asyncio.Event().wait()\n",
    "\n",
    "if __name__ == \"__main__\":\n",
    "    asyncio.run(main())"
   ]
  },
  {
   "cell_type": "code",
   "execution_count": null,
   "id": "df1617d8-4280-4546-b458-db72c9855b02",
   "metadata": {
    "@deathbeds/jupyterlab-fonts": {
     "styles": {
      "": {
       "body[data-jp-deck-mode='presenting'] &": {
        "height": "13.240740740740742%",
        "left": "51.354166666666664%",
        "position": "fixed",
        "top": "14.49074074074074%",
        "width": "44.375%"
       }
      }
     }
    },
    "tags": []
   },
   "outputs": [],
   "source": [
    "import asyncio, anyio\n",
    "async def serve():\n",
    "    await anyio.run_process([\"python\", \"app.py\"])\n",
    "asyncio.create_task(serve())"
   ]
  },
  {
   "cell_type": "markdown",
   "id": "7ec79f9f-002c-4007-bf2c-a7769ffcb8f7",
   "metadata": {
    "@deathbeds/jupyterlab-fonts": {
     "styles": {
      "": {
       "body[data-jp-deck-mode='presenting'] &": {
        "height": "8.959056712962964%",
        "left": "51.45833333333333%",
        "position": "fixed",
        "top": "39.08420138888889%",
        "width": "45.416666666666664%"
       }
      }
     }
    },
    "slideshow": {
     "slide_type": "fragment"
    },
    "tags": []
   },
   "source": [
    "## **request** with a client"
   ]
  },
  {
   "cell_type": "code",
   "execution_count": null,
   "id": "18ed4dbe-7713-454b-8ff3-a0335f1275a5",
   "metadata": {
    "@deathbeds/jupyterlab-fonts": {
     "styles": {
      "": {
       "body[data-jp-deck-mode='presenting'] &": {
        "height": "13.981481481481481%",
        "left": "51.5625%",
        "position": "fixed",
        "top": "49.12037037037037%",
        "width": "45.416666666666664%"
       }
      }
     }
    },
    "tags": []
   },
   "outputs": [],
   "source": [
    "from tornado.httpclient import AsyncHTTPClient\n",
    "while True:\n",
    "    try: r = await AsyncHTTPClient().fetch(\n",
    "        \"http://127.0.0.1:8899/fib/10\"\n",
    "    ); break\n",
    "    except: await anyio.sleep(1)\n",
    "r.body"
   ]
  },
  {
   "cell_type": "markdown",
   "id": "86ae3553-6981-4879-bbdb-fc3937fa5d99",
   "metadata": {
    "@deathbeds/jupyterlab-fonts": {
     "styles": {
      "": {
       "body[data-jp-deck-mode='presenting'] &": {
        "height": "0%",
        "left": "2.2916666666666665%",
        "position": "fixed",
        "top": "87.96296296296296%",
        "width": "93.33333333333333%"
       }
      }
     }
    }
   },
   "source": [
    " "
   ]
  },
  {
   "cell_type": "markdown",
   "id": "a6ce37b4-1909-41bf-bee4-c009efabe1da",
   "metadata": {
    "@deathbeds/jupyterlab-fonts": {
     "styles": {
      "": {
       "body[data-jp-deck-mode='presenting'] &": {
        "height": "12.405237268518517%",
        "left": "2.8125%",
        "position": "fixed",
        "top": "-0.740017361111111%",
        "width": "63.33333333333333%"
       }
      }
     }
    },
    "slideshow": {
     "slide_type": "slide"
    },
    "tags": []
   },
   "source": [
    "# **acceptance** test with `robotframework`"
   ]
  },
  {
   "cell_type": "code",
   "execution_count": null,
   "id": "d24a2085-d916-487d-a51f-a5b593af2da5",
   "metadata": {
    "@deathbeds/jupyterlab-fonts": {
     "styles": {
      "": {
       "body[data-jp-deck-mode='presenting'] &": {
        "height": "4.722222222222222%",
        "left": "61.875%",
        "position": "fixed",
        "top": "3.1018518518518516%",
        "width": "36.354166666666664%"
       }
      }
     }
    },
    "tags": []
   },
   "outputs": [],
   "source": [
    "%reload_ext JupyterLibrary"
   ]
  },
  {
   "cell_type": "code",
   "execution_count": null,
   "id": "10609b81-64f1-411a-a9ab-5afb9934615e",
   "metadata": {
    "@deathbeds/jupyterlab-fonts": {
     "styles": {
      "": {
       "body[data-jp-deck-mode='presenting'] &": {
        "height": "33.611111111111114%",
        "left": "2.9166666666666665%",
        "position": "fixed",
        "top": "9.953703703703704%",
        "width": "95.9375%"
       }
      }
     }
    },
    "scrolled": true,
    "tags": []
   },
   "outputs": [],
   "source": [
    "%%robot\n",
    "*** Settings ***\n",
    "Library           SeleniumLibrary\n",
    "\n",
    "*** Tasks ***\n",
    "Get the 10th Fibonacci Number\n",
    "    Open Browser  http://127.0.0.1:8899/fib/10\n",
    "    Wait Until Page Contains   {\"result\": 55}\n",
    "    Capture Page Screenshot\n",
    "    [Teardown]   Close All Browsers"
   ]
  },
  {
   "cell_type": "markdown",
   "id": "e1bcead7-5047-46b8-8db3-46c2e5ceffe2",
   "metadata": {},
   "source": [
    " "
   ]
  },
  {
   "cell_type": "markdown",
   "id": "f47c4814-e050-4794-96c5-7785d55a8c59",
   "metadata": {
    "@deathbeds/jupyterlab-fonts": {
     "styles": {
      "": {
       "body[data-jp-deck-mode='presenting'] &": {
        "height": "12.405237268518517%",
        "left": "2.3958333333333335%",
        "position": "fixed",
        "top": "2.130353009259259%",
        "width": "93.33333333333333%"
       }
      }
     }
    },
    "slideshow": {
     "slide_type": "slide"
    },
    "tags": []
   },
   "source": [
    "# **conformance** test with `schemathesis`"
   ]
  },
  {
   "cell_type": "code",
   "execution_count": null,
   "id": "0088a21f-16ea-408d-a335-e51cdfc9bc92",
   "metadata": {
    "@deathbeds/jupyterlab-fonts": {
     "styles": {
      "": {
       "body[data-jp-deck-mode='presenting'] &": {
        "height": "69.35134594882729%",
        "left": "3.0208333333333335%",
        "position": "fixed",
        "top": "16.7952092217484%",
        "width": "45.9375%"
       }
      }
     }
    },
    "slideshow": {
     "slide_type": "fragment"
    },
    "tags": []
   },
   "outputs": [],
   "source": [
    "%%file openapi.yml\n",
    "openapi: 3.0.0\n",
    "info:\n",
    "  title: fibonacci\n",
    "  version: 0.0.0\n",
    "paths:\n",
    "  /fib/{n}:\n",
    "    get:\n",
    "      parameters:\n",
    "        - name: n\n",
    "          in: path\n",
    "          required: true\n",
    "          schema:\n",
    "            type: string\n",
    "            pattern: \\d{1}\n",
    "      responses:\n",
    "        '200':\n",
    "          content:\n",
    "            application/json:\n",
    "              schema:\n",
    "                type: object\n",
    "                require: [result]\n",
    "                properties:\n",
    "                  result:\n",
    "                    type: integer"
   ]
  },
  {
   "cell_type": "code",
   "execution_count": null,
   "id": "1cd9fb9a-882d-4862-97ac-b691bcb7fb6c",
   "metadata": {
    "@deathbeds/jupyterlab-fonts": {
     "styles": {
      "": {
       "body[data-jp-deck-mode='presenting'] &": {
        "height": "69.35134594882729%",
        "left": "50.208333333333336%",
        "position": "fixed",
        "top": "17.00842883795309%",
        "width": "45.9375%"
       }
      }
     }
    },
    "scrolled": true,
    "slideshow": {
     "slide_type": "fragment"
    },
    "tags": []
   },
   "outputs": [],
   "source": [
    "!st run http://127.0.0.1:8899/static/openapi.yml #--hypothesis-verbosity verbose"
   ]
  },
  {
   "cell_type": "markdown",
   "id": "777e253f-27a4-4724-88b3-3f3be383f382",
   "metadata": {
    "@deathbeds/jupyterlab-fonts": {
     "styles": {
      "": {
       "body[data-jp-deck-mode='presenting'] &": {
        "height": "-38.59275053304904%",
        "left": "3.3333333333333335%",
        "position": "fixed",
        "top": "95.62899786780383%",
        "width": "93.33333333333333%"
       }
      }
     }
    }
   },
   "source": [
    " "
   ]
  },
  {
   "cell_type": "markdown",
   "id": "1805891b-d823-4d61-b266-41a52e942518",
   "metadata": {
    "@deathbeds/jupyterlab-fonts": {
     "styles": {
      "": {
       "body[data-jp-deck-mode='presenting'] &": {
        "height": "14.283215618336886%",
        "left": "1.6666666666666667%",
        "position": "fixed",
        "top": "3.199127132196162%",
        "width": "93.33333333333333%"
       }
      }
     }
    },
    "slideshow": {
     "slide_type": "slide"
    },
    "tags": []
   },
   "source": [
    "# **load** test with `locust`"
   ]
  },
  {
   "cell_type": "code",
   "execution_count": null,
   "id": "a8aa1b57-3f6a-482c-8642-a78e7f6c4051",
   "metadata": {
    "@deathbeds/jupyterlab-fonts": {
     "styles": {
      "": {
       "body[data-jp-deck-mode='presenting'] &": {
        "height": "39.97867803837953%",
        "left": "1.9791666666666665%",
        "position": "fixed",
        "top": "20.04014525586354%",
        "width": "37.604166666666664%"
       }
      }
     }
    },
    "slideshow": {
     "slide_type": "fragment"
    },
    "tags": []
   },
   "outputs": [],
   "source": [
    "%%file locustfile.py\n",
    "import random\n",
    "from locust import HttpUser, task, between\n",
    "\n",
    "class Fibber(HttpUser):\n",
    "    host = \"http://127.0.0.1:8899\"\n",
    "    wait_time = between(1, 5)\n",
    "    @task\n",
    "    def hello_world(self):\n",
    "        self.client.get(\n",
    "            f\"/fib/{random.randint(1, 10)}\"\n",
    "        )"
   ]
  },
  {
   "cell_type": "code",
   "execution_count": null,
   "id": "a70a5dae-e489-42d7-80a8-8a7f1e42bafa",
   "metadata": {
    "@deathbeds/jupyterlab-fonts": {
     "styles": {
      "": {
       "body[data-jp-deck-mode='presenting'] &": {
        "height": "99.68017057569296%",
        "left": "40.833333333333336%",
        "position": "fixed",
        "top": "4.209421641791044%",
        "width": "58.75%"
       }
      }
     }
    },
    "scrolled": true,
    "slideshow": {
     "slide_type": "fragment"
    },
    "tags": []
   },
   "outputs": [],
   "source": [
    "!locust -f locustfile.py --headless --users 10 --run-time 5 # seconds"
   ]
  },
  {
   "cell_type": "markdown",
   "id": "6fce4e45-db14-4d8c-9e05-2c97e20da7b8",
   "metadata": {
    "@deathbeds/jupyterlab-fonts": {
     "styles": {
      "": {
       "body[data-jp-deck-mode='presenting'] &": {
        "height": "5.6503198294243075%",
        "left": "3.125%",
        "position": "fixed",
        "top": "90.45842217484008%",
        "width": "93.33333333333333%"
       }
      }
     }
    }
   },
   "source": [
    " "
   ]
  },
  {
   "cell_type": "markdown",
   "id": "9bc0d1ab-0dca-4a04-9530-0af36507a883",
   "metadata": {
    "slideshow": {
     "slide_type": "slide"
    },
    "tags": []
   },
   "source": [
    "# Next\n",
    "[Managing entropy](./03-entropy.ipynb)"
   ]
  }
 ],
 "metadata": {
  "kernelspec": {
   "display_name": "Python 3 (ipykernel)",
   "language": "python",
   "name": "python3"
  },
  "language_info": {
   "codemirror_mode": {
    "name": "ipython",
    "version": 3
   },
   "file_extension": ".py",
   "mimetype": "text/x-python",
   "name": "python",
   "nbconvert_exporter": "python",
   "pygments_lexer": "ipython3",
   "version": "3.10.9"
  }
 },
 "nbformat": 4,
 "nbformat_minor": 5
}
