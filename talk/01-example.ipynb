{
 "cells": [
  {
   "cell_type": "markdown",
   "id": "f2eb434b-b974-4fb6-ac49-276cd8cb9aba",
   "metadata": {},
   "source": [
    "# A simple function"
   ]
  },
  {
   "cell_type": "code",
   "execution_count": null,
   "id": "4726516c-c991-4e43-8e67-89f1f73a6d97",
   "metadata": {},
   "outputs": [],
   "source": [
    "def greet(whom):\n",
    "    return \"hello \" + whom"
   ]
  },
  {
   "cell_type": "markdown",
   "id": "9925eaf4-450d-4344-9e31-9894bef8db10",
   "metadata": {
    "slideshow": {
     "slide_type": "fragment"
    },
    "tags": []
   },
   "source": [
    "## ...can be tested interactively"
   ]
  },
  {
   "cell_type": "code",
   "execution_count": null,
   "id": "dced6536-1ebf-43ed-b991-27465dfacc3e",
   "metadata": {},
   "outputs": [],
   "source": [
    "greet(\"world\")"
   ]
  },
  {
   "cell_type": "markdown",
   "id": "16964b4d-051b-4ef7-859b-2d307b462758",
   "metadata": {},
   "source": [
    "> ## Looks about right, ship it."
   ]
  },
  {
   "cell_type": "markdown",
   "id": "cec38ac5-3a64-4e98-be11-40291ee7f7a2",
   "metadata": {},
   "source": [
    " "
   ]
  },
  {
   "cell_type": "markdown",
   "id": "666636b8-3ea0-4a1f-a544-d3f423abe6d4",
   "metadata": {
    "slideshow": {
     "slide_type": "slide"
    },
    "tags": []
   },
   "source": [
    "# But it could `assert` itself..."
   ]
  },
  {
   "cell_type": "code",
   "execution_count": null,
   "id": "7ede32d3-b46a-4c43-b5e7-ad4b74e50d0c",
   "metadata": {},
   "outputs": [],
   "source": [
    "def greet(who):\n",
    "    \"\"\">>> assert greet(\"world\") == 'hello world'\"\"\"\n",
    "    return \"hello \" + who"
   ]
  },
  {
   "cell_type": "markdown",
   "id": "2bef674e-300e-4317-8133-dfa15f81d887",
   "metadata": {
    "slideshow": {
     "slide_type": "fragment"
    },
    "tags": []
   },
   "source": [
    "## ... with `doctest`\n"
   ]
  },
  {
   "cell_type": "code",
   "execution_count": null,
   "id": "fae8948d-9e93-45a4-81cf-187fdc1f7032",
   "metadata": {},
   "outputs": [],
   "source": [
    "import doctest\n",
    "doctest.testmod(verbose=True)"
   ]
  },
  {
   "cell_type": "markdown",
   "id": "85fb3114-546a-4489-a1bb-80dcafad97e9",
   "metadata": {},
   "source": [
    " "
   ]
  },
  {
   "cell_type": "markdown",
   "id": "0b2953d2-b73a-4400-8a37-283bc0d31c9d",
   "metadata": {
    "slideshow": {
     "slide_type": "slide"
    },
    "tags": []
   },
   "source": [
    "# In an example application"
   ]
  },
  {
   "cell_type": "code",
   "execution_count": null,
   "id": "7815f92f-7ad3-49db-badb-7a3f109d6a61",
   "metadata": {},
   "outputs": [],
   "source": [
    "import asyncio\n",
    "from tornado import web, httpclient"
   ]
  },
  {
   "cell_type": "code",
   "execution_count": null,
   "id": "2d3e8588-ec7a-4a2e-8f2d-6d104a1ec355",
   "metadata": {},
   "outputs": [],
   "source": [
    "class MainHandler(web.RequestHandler):\n",
    "    async def get(self, whom):\n",
    "        self.write(greet(whom))"
   ]
  },
  {
   "cell_type": "code",
   "execution_count": null,
   "id": "ca79d043-f627-4a73-949d-fa5c374a176b",
   "metadata": {},
   "outputs": [],
   "source": [
    "async def main():\n",
    "    application = web.Application([\n",
    "        (r\"/(?P<whom>.*)\", MainHandler),\n",
    "    ])\n",
    "    application.listen(8899)\n",
    "    await asyncio.Event().wait()"
   ]
  },
  {
   "cell_type": "markdown",
   "id": "38b81d2f-c62b-4cdd-8722-cd4d52983e44",
   "metadata": {},
   "source": [
    "## And yet it runs"
   ]
  },
  {
   "cell_type": "code",
   "execution_count": null,
   "id": "d44ea57b-90e3-4b9f-a8ca-856fb4643916",
   "metadata": {},
   "outputs": [],
   "source": [
    "asyncio.create_task(main())"
   ]
  },
  {
   "cell_type": "markdown",
   "id": "110c1d89-08ea-413d-8d5e-afbd1e2f6077",
   "metadata": {
    "slideshow": {
     "slide_type": "slide"
    },
    "tags": []
   },
   "source": [
    "## From a client"
   ]
  },
  {
   "cell_type": "code",
   "execution_count": null,
   "id": "8d28d0e5-c833-454a-b8c7-c7a9c35061ee",
   "metadata": {},
   "outputs": [],
   "source": [
    "r = await httpclient.AsyncHTTPClient().fetch(\"http://127.0.0.1:8899/world\")"
   ]
  },
  {
   "cell_type": "code",
   "execution_count": null,
   "id": "0fb99274-5d01-4ae0-9530-fa00e9ba2d79",
   "metadata": {},
   "outputs": [],
   "source": [
    "r.body"
   ]
  },
  {
   "cell_type": "markdown",
   "id": "86bcf247-fcd5-44c8-b939-d128c50a29de",
   "metadata": {},
   "source": [
    " "
   ]
  },
  {
   "cell_type": "markdown",
   "id": "5fbbd14b-3958-499c-9dda-a99ef93797cb",
   "metadata": {
    "slideshow": {
     "slide_type": "slide"
    },
    "tags": []
   },
   "source": [
    "# typechecking with `mypy`"
   ]
  },
  {
   "cell_type": "code",
   "execution_count": null,
   "id": "46e2a12c-14a9-4978-9e18-55746244bb42",
   "metadata": {},
   "outputs": [],
   "source": [
    "def greet(whom: str) -> str:\n",
    "    \"\"\">>> assert greet(\"world\") == 'hello world'\"\"\"\n",
    "    return \"hello \" + whom"
   ]
  },
  {
   "cell_type": "markdown",
   "id": "f24707c8-f2ca-436d-85af-399a13ae8d1b",
   "metadata": {
    "slideshow": {
     "slide_type": "fragment"
    },
    "tags": []
   },
   "source": [
    "## ... will only do so much"
   ]
  },
  {
   "cell_type": "code",
   "execution_count": null,
   "id": "c8fadfb5-995f-4a80-823f-ce007e6e3cd1",
   "metadata": {},
   "outputs": [],
   "source": [
    "greet(1)"
   ]
  },
  {
   "cell_type": "markdown",
   "id": "78365269-c640-4cae-8127-527757c885af",
   "metadata": {},
   "source": [
    " "
   ]
  },
  {
   "cell_type": "markdown",
   "id": "79617c2b-6f90-4b48-8463-71e2c71713eb",
   "metadata": {
    "slideshow": {
     "slide_type": "slide"
    },
    "tags": []
   },
   "source": [
    "# compiling with `mypyc`"
   ]
  },
  {
   "cell_type": "code",
   "execution_count": null,
   "id": "c2f728f3-6fea-4561-99cf-65526cf516cf",
   "metadata": {},
   "outputs": [],
   "source": [
    "%load_ext mypyc\n",
    "%%mypyc\n",
    "def greet(whom: str) -> str:\n",
    "    \"\"\">>> assert greet(\"world\") == 'hello world'\"\"\"\n",
    "    return \"hello \" + whom"
   ]
  },
  {
   "cell_type": "markdown",
   "id": "6fcb7516-cabf-42bf-873b-d5aad25a3f99",
   "metadata": {
    "slideshow": {
     "slide_type": "slide"
    },
    "tags": []
   },
   "source": [
    "# fuzzing with `atheris`"
   ]
  },
  {
   "cell_type": "markdown",
   "id": "7329ba6c-6649-4c80-9087-098d8faa663e",
   "metadata": {
    "slideshow": {
     "slide_type": "slide"
    },
    "tags": []
   },
   "source": [
    "# acceptance testing with `robotframework`"
   ]
  }
 ],
 "metadata": {
  "kernelspec": {
   "display_name": "Python 3 (ipykernel)",
   "language": "python",
   "name": "python3"
  },
  "language_info": {
   "codemirror_mode": {
    "name": "ipython",
    "version": 3
   },
   "file_extension": ".py",
   "mimetype": "text/x-python",
   "name": "python",
   "nbconvert_exporter": "python",
   "pygments_lexer": "ipython3",
   "version": "3.10.6"
  },
  "toc-autonumbering": true
 },
 "nbformat": 4,
 "nbformat_minor": 5
}
