{
 "cells": [
  {
   "cell_type": "markdown",
   "id": "f2eb434b-b974-4fb6-ac49-276cd8cb9aba",
   "metadata": {
    "@deathbeds/jupyterlab-fonts": {
     "styles": {
      "": {
       "body[data-jp-deck-mode='presenting'] &": {
        "height": "10.751591435185185%",
        "left": "1.7708333333333333%",
        "position": "fixed",
        "top": "3.0258969907407405%",
        "width": "93.33333333333333%"
       }
      }
     }
    }
   },
   "source": [
    "# A simple function"
   ]
  },
  {
   "cell_type": "markdown",
   "id": "c28e0d4f-7c4c-442c-9476-a71fdde45230",
   "metadata": {
    "@deathbeds/jupyterlab-fonts": {
     "styles": {
      "": {
       "body[data-jp-deck-mode='presenting'] &": {
        "height": "79.70341435185185%",
        "left": "37.083333333333336%",
        "position": "fixed",
        "top": "15.750868055555555%",
        "width": "62.135416666666664%"
       }
      }
     }
    },
    "jupyterlab-deck": {
     "layer": "slide"
    },
    "tags": []
   },
   "source": [
    "![](img/Fibonacci_staircase_at_St_Johns_College_Cambridge_UK_Valerian_Guillot.jpg)"
   ]
  },
  {
   "cell_type": "code",
   "execution_count": 23,
   "id": "4726516c-c991-4e43-8e67-89f1f73a6d97",
   "metadata": {
    "@deathbeds/jupyterlab-fonts": {
     "styles": {
      "": {
       "body[data-jp-deck-mode='presenting'] &": {
        "height": "16.38888888888889%",
        "left": "1.9791666666666665%",
        "position": "fixed",
        "top": "16.11111111111111%",
        "width": "34.437662760416664%"
       }
      }
     }
    },
    "jupyterlab-deck": {
     "layer": "slide"
    },
    "tags": []
   },
   "outputs": [],
   "source": [
    "def fib(n):\n",
    "    if n <= 1:\n",
    "        return n\n",
    "    else:\n",
    "        return fib(n - 2) + fib(n - 1)"
   ]
  },
  {
   "cell_type": "markdown",
   "id": "9925eaf4-450d-4344-9e31-9894bef8db10",
   "metadata": {
    "@deathbeds/jupyterlab-fonts": {
     "styles": {
      "": {
       "body[data-jp-deck-mode='presenting'] &": {
        "height": "8.959056712962964%",
        "left": "1.25%",
        "position": "fixed",
        "top": "39.142795138888886%",
        "width": "36.770833333333336%"
       }
      }
     }
    },
    "slideshow": {
     "slide_type": "fragment"
    },
    "tags": []
   },
   "source": [
    "## ...can be tested interactively"
   ]
  },
  {
   "cell_type": "code",
   "execution_count": 24,
   "id": "dced6536-1ebf-43ed-b991-27465dfacc3e",
   "metadata": {
    "@deathbeds/jupyterlab-fonts": {
     "styles": {
      "": {
       "body[data-jp-deck-mode='presenting'] &": {
        "height": "14.166666666666666%",
        "left": "1.25%",
        "position": "fixed",
        "top": "56.39973958333333%",
        "width": "36.97916666666667%"
       }
      }
     }
    },
    "tags": []
   },
   "outputs": [
    {
     "data": {
      "text/plain": [
       "5"
      ]
     },
     "execution_count": 24,
     "metadata": {},
     "output_type": "execute_result"
    }
   ],
   "source": [
    "fib(5)"
   ]
  },
  {
   "cell_type": "markdown",
   "id": "16964b4d-051b-4ef7-859b-2d307b462758",
   "metadata": {
    "@deathbeds/jupyterlab-fonts": {
     "styles": {
      "": {
       "body[data-jp-deck-mode='presenting'] &": {
        "height": "8.959056712962964%",
        "left": "1.2495930989583333%",
        "position": "fixed",
        "top": "73.66825810185185%",
        "width": "42.70833333333333%"
       }
      }
     }
    },
    "tags": []
   },
   "source": [
    "## Looks about right, ship it."
   ]
  },
  {
   "cell_type": "markdown",
   "id": "cec38ac5-3a64-4e98-be11-40291ee7f7a2",
   "metadata": {
    "@deathbeds/jupyterlab-fonts": {
     "styles": {
      "": {
       "body[data-jp-deck-mode='presenting'] &": {
        "height": "0%",
        "left": "2.604166666666667%",
        "position": "fixed",
        "top": "97.22222222222221%",
        "width": "93.33333333333333%"
       }
      }
     }
    }
   },
   "source": [
    " "
   ]
  },
  {
   "cell_type": "markdown",
   "id": "666636b8-3ea0-4a1f-a544-d3f423abe6d4",
   "metadata": {
    "@deathbeds/jupyterlab-fonts": {
     "styles": {
      "": {
       "body[data-jp-deck-mode='presenting'] &": {
        "height": "12.405237268518517%",
        "left": "1.5625%",
        "position": "fixed",
        "top": "2.332175925925926%",
        "width": "46.770833333333336%"
       }
      }
     }
    },
    "slideshow": {
     "slide_type": "slide"
    },
    "tags": []
   },
   "source": [
    "# But it could `assert` itself..."
   ]
  },
  {
   "cell_type": "code",
   "execution_count": 25,
   "id": "7ede32d3-b46a-4c43-b5e7-ad4b74e50d0c",
   "metadata": {
    "@deathbeds/jupyterlab-fonts": {
     "styles": {
      "": {
       "body[data-jp-deck-mode='presenting'] &": {
        "height": "20.64814814814815%",
        "left": "1.875%",
        "position": "fixed",
        "top": "15.572193287037036%",
        "width": "46.5625%"
       }
      }
     }
    },
    "tags": []
   },
   "outputs": [
    {
     "name": "stdout",
     "output_type": "stream",
     "text": [
      "1\n",
      "55\n"
     ]
    }
   ],
   "source": [
    "def fib(n):\n",
    "    \"\"\" Return the `n`th fibonacci sequence number\n",
    "    >>> assert fib(5) == 5\n",
    "    \"\"\"\n",
    "    if n <= 1:\n",
    "        return n\n",
    "    else:\n",
    "        return fib(n - 2) + fib(n - 1)\n",
    "\n",
    "\n",
    "print(fib(2))\n",
    "print(fib(10))"
   ]
  },
  {
   "cell_type": "markdown",
   "id": "2bef674e-300e-4317-8133-dfa15f81d887",
   "metadata": {
    "@deathbeds/jupyterlab-fonts": {
     "styles": {
      "": {
       "body[data-jp-deck-mode='presenting'] &": {
        "height": "12.374131944444445%",
        "left": "48.645833333333336%",
        "position": "fixed",
        "top": "3.8585069444444446%",
        "width": "49.166259765625%"
       }
      }
     }
    },
    "slideshow": {
     "slide_type": "fragment"
    },
    "tags": []
   },
   "source": [
    "## ... and be **unit** tested with `doctest`\n"
   ]
  },
  {
   "cell_type": "code",
   "execution_count": 4,
   "id": "fae8948d-9e93-45a4-81cf-187fdc1f7032",
   "metadata": {
    "@deathbeds/jupyterlab-fonts": {
     "styles": {
      "": {
       "body[data-jp-deck-mode='presenting'] &": {
        "height": "57.68518518518518%",
        "left": "48.854166666666664%",
        "position": "fixed",
        "top": "15.694444444444445%",
        "width": "47.083333333333336%"
       }
      }
     }
    }
   },
   "outputs": [
    {
     "name": "stdout",
     "output_type": "stream",
     "text": [
      "Trying:\n",
      "    assert fib(5) == 5\n",
      "Expecting nothing\n",
      "ok\n",
      "1 items had no tests:\n",
      "    __main__\n",
      "1 items passed all tests:\n",
      "   1 tests in __main__.fib\n",
      "1 tests in 2 items.\n",
      "1 passed and 0 failed.\n",
      "Test passed.\n"
     ]
    },
    {
     "data": {
      "text/plain": [
       "TestResults(failed=0, attempted=1)"
      ]
     },
     "execution_count": 4,
     "metadata": {},
     "output_type": "execute_result"
    }
   ],
   "source": [
    "import doctest\n",
    "doctest.testmod(verbose=True)"
   ]
  },
  {
   "cell_type": "markdown",
   "id": "85fb3114-546a-4489-a1bb-80dcafad97e9",
   "metadata": {
    "@deathbeds/jupyterlab-fonts": {
     "styles": {
      "": {
       "body[data-jp-deck-mode='presenting'] &": {
        "height": "0%",
        "left": "2.604166666666667%",
        "position": "fixed",
        "top": "88.88888888888889%",
        "width": "93.33333333333333%"
       }
      }
     }
    }
   },
   "source": [
    " "
   ]
  },
  {
   "cell_type": "markdown",
   "id": "5fbbd14b-3958-499c-9dda-a99ef93797cb",
   "metadata": {
    "@deathbeds/jupyterlab-fonts": {
     "styles": {
      "": {
       "body[data-jp-deck-mode='presenting'] &": {
        "height": "12.590422453703704%",
        "left": "1.4583333333333333%",
        "position": "fixed",
        "top": "0.5092592592592593%",
        "width": "47.96875%"
       }
      }
     }
    },
    "slideshow": {
     "slide_type": "slide"
    },
    "tags": []
   },
   "source": [
    "# **type** hints add intent"
   ]
  },
  {
   "cell_type": "code",
   "execution_count": 26,
   "id": "46e2a12c-14a9-4978-9e18-55746244bb42",
   "metadata": {
    "@deathbeds/jupyterlab-fonts": {
     "styles": {
      "": {
       "body[data-jp-deck-mode='presenting'] &": {
        "height": "26.38888888888889%",
        "left": "1.5625%",
        "position": "fixed",
        "top": "15.05714699074074%",
        "width": "47.604166666666664%"
       }
      }
     }
    }
   },
   "outputs": [],
   "source": [
    "def fib_typed(n: int) -> int:\n",
    "    if n <= 1:\n",
    "        return n\n",
    "    else:\n",
    "        return fib_typed(n - 2) + fib_typed(n - 1)"
   ]
  },
  {
   "cell_type": "markdown",
   "id": "f24707c8-f2ca-436d-85af-399a13ae8d1b",
   "metadata": {
    "@deathbeds/jupyterlab-fonts": {
     "styles": {
      "": {
       "body[data-jp-deck-mode='presenting'] &": {
        "height": "10.62572337962963%",
        "left": "1.3541666666666667%",
        "position": "fixed",
        "top": "33.15827546296296%",
        "width": "46.25%"
       }
      }
     }
    },
    "slideshow": {
     "slide_type": "fragment"
    },
    "tags": []
   },
   "source": [
    "## ... but only do so much alone"
   ]
  },
  {
   "cell_type": "code",
   "execution_count": 27,
   "id": "c8fadfb5-995f-4a80-823f-ce007e6e3cd1",
   "metadata": {
    "@deathbeds/jupyterlab-fonts": {
     "styles": {
      "": {
       "body[data-jp-deck-mode='presenting'] &": {
        "height": "42.68446180555556%",
        "left": "50.10416666666667%",
        "position": "fixed",
        "top": "0.6018518518518519%",
        "width": "48.229166666666664%"
       }
      }
     }
    },
    "tags": []
   },
   "outputs": [
    {
     "name": "stdout",
     "output_type": "stream",
     "text": [
      "'<=' not supported between instances of 'str' and 'int'\n"
     ]
    }
   ],
   "source": [
    "try:\n",
    "    fib_typed(\"foo\")  # actually have to enter the code\n",
    "except Exception as err:\n",
    "    print(err)"
   ]
  },
  {
   "cell_type": "code",
   "execution_count": 28,
   "id": "5240a6c2-7e3f-42d4-8a2e-eddafd51ffad",
   "metadata": {
    "@deathbeds/jupyterlab-fonts": {
     "styles": {
      "": {
       "body[data-jp-deck-mode='presenting'] &": {
        "height": "26.944444444444443%",
        "left": "1.7708333333333333%",
        "position": "fixed",
        "top": "46.74768518518518%",
        "width": "45.729166666666664%"
       }
      }
     }
    },
    "jupyterlab-deck": {
     "layer": null
    },
    "slideshow": {
     "slide_type": "fragment"
    },
    "tags": []
   },
   "outputs": [],
   "source": [
    "from beartype import beartype\n",
    "\n",
    "@beartype\n",
    "def fib_bear(n: int) -> int:\n",
    "    if n <= 1:\n",
    "        return n\n",
    "    else:\n",
    "        return fib_bear(n - 2) + fib_bear(n - 1)"
   ]
  },
  {
   "cell_type": "code",
   "execution_count": 29,
   "id": "7bea054b-8b69-4f2e-b09a-31886a6cdf88",
   "metadata": {
    "@deathbeds/jupyterlab-fonts": {
     "styles": {
      "": {
       "body[data-jp-deck-mode='presenting'] &": {
        "height": "17.685185185185183%",
        "left": "50%",
        "position": "fixed",
        "top": "46.43518518518518%",
        "width": "48.229166666666664%"
       }
      }
     }
    },
    "slideshow": {
     "slide_type": "fragment"
    },
    "tags": []
   },
   "outputs": [
    {
     "name": "stdout",
     "output_type": "stream",
     "text": [
      "@beartyped __main__.fib_bear() parameter n='bear' violates type hint <class 'int'>, as str 'bear' not instance of int.\n"
     ]
    }
   ],
   "source": [
    "try:\n",
    "    fib_bear(\"bear\")  # rejects bad inputs at the door\n",
    "except Exception as err:\n",
    "    print(err)"
   ]
  },
  {
   "cell_type": "markdown",
   "id": "78365269-c640-4cae-8127-527757c885af",
   "metadata": {
    "@deathbeds/jupyterlab-fonts": {
     "styles": {
      "": {
       "body[data-jp-deck-mode='presenting'] &": {
        "height": "0%",
        "left": "2.2916666666666665%",
        "position": "fixed",
        "top": "92.77777777777779%",
        "width": "93.33333333333333%"
       }
      }
     }
    }
   },
   "source": [
    " "
   ]
  },
  {
   "cell_type": "markdown",
   "id": "79617c2b-6f90-4b48-8463-71e2c71713eb",
   "metadata": {
    "@deathbeds/jupyterlab-fonts": {
     "styles": {
      "": {
       "body[data-jp-deck-mode='presenting'] &": {
        "height": "12.405237268518517%",
        "left": "2.2916666666666665%",
        "position": "fixed",
        "top": "3.5655381944444446%",
        "width": "93.33333333333333%"
       }
      }
     }
    },
    "slideshow": {
     "slide_type": "slide"
    },
    "tags": []
   },
   "source": [
    "# **typing** _does_ impact performance"
   ]
  },
  {
   "cell_type": "code",
   "execution_count": 30,
   "id": "c043ba93-cff6-45c7-88d0-45f0af2819ac",
   "metadata": {
    "@deathbeds/jupyterlab-fonts": {
     "styles": {
      "": {
       "body[data-jp-deck-mode='presenting'] &": {
        "height": "12.685185185185185%",
        "left": "2.291259765625%",
        "position": "fixed",
        "top": "20.50925925925926%",
        "width": "26.666259765625%"
       }
      }
     }
    },
    "tags": []
   },
   "outputs": [
    {
     "name": "stdout",
     "output_type": "stream",
     "text": [
      "11.8 µs ± 583 ns per loop (mean ± std. dev. of 7 runs, 100,000 loops each)\n"
     ]
    }
   ],
   "source": [
    "t0 = %timeit -o fib(10)"
   ]
  },
  {
   "cell_type": "code",
   "execution_count": 31,
   "id": "86743793-fcea-4dc1-878a-5b8bff5f8bc6",
   "metadata": {
    "@deathbeds/jupyterlab-fonts": {
     "styles": {
      "": {
       "body[data-jp-deck-mode='presenting'] &": {
        "height": "12.685185185185185%",
        "left": "34.062093098958336%",
        "position": "fixed",
        "top": "20.694444444444443%",
        "width": "27.290445963541664%"
       }
      }
     }
    },
    "tags": []
   },
   "outputs": [
    {
     "name": "stdout",
     "output_type": "stream",
     "text": [
      "11.8 µs ± 372 ns per loop (mean ± std. dev. of 7 runs, 100,000 loops each)\n"
     ]
    }
   ],
   "source": [
    "t1 = %timeit -o fib_typed(10)"
   ]
  },
  {
   "cell_type": "code",
   "execution_count": 32,
   "id": "f63496cb-0875-45fb-9ce7-407605bfdfe8",
   "metadata": {
    "@deathbeds/jupyterlab-fonts": {
     "styles": {
      "": {
       "body[data-jp-deck-mode='presenting'] &": {
        "height": "12.685185185185185%",
        "left": "68.12459309895833%",
        "position": "fixed",
        "top": "20.324074074074076%",
        "width": "26.666259765625%"
       }
      }
     }
    },
    "tags": []
   },
   "outputs": [
    {
     "name": "stdout",
     "output_type": "stream",
     "text": [
      "50.1 µs ± 502 ns per loop (mean ± std. dev. of 7 runs, 10,000 loops each)\n"
     ]
    }
   ],
   "source": [
    "t2 = %timeit -o fib_bear(10)"
   ]
  },
  {
   "cell_type": "markdown",
   "id": "13231e4c-ca46-49dd-bce2-be84c2b0bd07",
   "metadata": {
    "@deathbeds/jupyterlab-fonts": {
     "styles": {
      "": {
       "body[data-jp-deck-mode='presenting'] &": {
        "height": "7.466001157407407%",
        "left": "2.0829264322916665%",
        "position": "fixed",
        "top": "38.11848958333333%",
        "width": "93.33333333333333%"
       }
      }
     }
    },
    "slideshow": {
     "slide_type": "fragment"
    },
    "tags": []
   },
   "source": [
    "### ... but can be used to _improve_ performance"
   ]
  },
  {
   "cell_type": "code",
   "execution_count": 33,
   "id": "6d38a0ff-8d8d-469e-8f97-13134d9f8e8a",
   "metadata": {
    "@deathbeds/jupyterlab-fonts": {
     "styles": {
      "": {
       "body[data-jp-deck-mode='presenting'] &": {
        "height": "6.388888888888888%",
        "left": "2.0829264322916665%",
        "position": "fixed",
        "top": "46.25%",
        "width": "38.4375%"
       }
      }
     }
    },
    "tags": []
   },
   "outputs": [],
   "source": [
    "%reload_ext mypyc_ipython"
   ]
  },
  {
   "cell_type": "code",
   "execution_count": 34,
   "id": "7b796fbe-36e5-44e8-b880-4704adcabcf6",
   "metadata": {
    "@deathbeds/jupyterlab-fonts": {
     "styles": {
      "": {
       "body[data-jp-deck-mode='presenting'] &": {
        "height": "20.64814814814815%",
        "left": "2.1875%",
        "position": "fixed",
        "top": "55.27777777777778%",
        "width": "38.229166666666664%"
       }
      }
     }
    },
    "slideshow": {
     "slide_type": "fragment"
    },
    "tags": []
   },
   "outputs": [],
   "source": [
    "%%mypyc\n",
    "def fib_c(n: int) -> int:\n",
    "    if n <= 1:\n",
    "        return n\n",
    "    else:\n",
    "        return fib_c(n - 2) + fib_c(n - 1)"
   ]
  },
  {
   "cell_type": "code",
   "execution_count": 35,
   "id": "0d6e105d-af19-44d4-aa44-0c22ce92d85d",
   "metadata": {
    "@deathbeds/jupyterlab-fonts": {
     "styles": {
      "": {
       "body[data-jp-deck-mode='presenting'] &": {
        "height": "12.685185185185185%",
        "left": "46.666666666666664%",
        "position": "fixed",
        "top": "46.249276620370374%",
        "width": "32.916666666666664%"
       }
      }
     }
    },
    "slideshow": {
     "slide_type": "fragment"
    },
    "tags": []
   },
   "outputs": [
    {
     "name": "stdout",
     "output_type": "stream",
     "text": [
      "745 ns ± 1.98 ns per loop (mean ± std. dev. of 7 runs, 1,000,000 loops each)\n"
     ]
    }
   ],
   "source": [
    "t3 = %timeit -o fib_c(10)"
   ]
  },
  {
   "cell_type": "markdown",
   "id": "d8db87bc-9250-499e-901c-7e5a052412ea",
   "metadata": {
    "@deathbeds/jupyterlab-fonts": {
     "styles": {
      "": {
       "body[data-jp-deck-mode='presenting'] &": {
        "height": "4.907407407407407%",
        "left": "1.875%",
        "position": "fixed",
        "top": "85.32407407407408%",
        "width": "93.33333333333333%"
       }
      }
     }
    },
    "tags": []
   },
   "source": [
    " "
   ]
  },
  {
   "cell_type": "markdown",
   "id": "48c62fe0-3e4e-4b7c-a24b-21fbaba0849f",
   "metadata": {
    "@deathbeds/jupyterlab-fonts": {
     "styles": {
      "": {
       "body[data-jp-deck-mode='presenting'] &": {
        "height": "6.245835554371002%",
        "left": "1.1979166666666667%",
        "position": "fixed",
        "top": "1.5625%",
        "width": "43.020833333333336%"
       }
      }
     }
    },
    "slideshow": {
     "slide_type": "slide"
    },
    "tags": []
   },
   "source": [
    "# **profile** with `snakeviz` "
   ]
  },
  {
   "cell_type": "code",
   "execution_count": 44,
   "id": "4ee406e4-8ff2-4e8f-a5f0-251a535232aa",
   "metadata": {
    "@deathbeds/jupyterlab-fonts": {
     "styles": {
      "": {
       "body[data-jp-deck-mode='presenting'] &": {
        "height": "46.54441550925926%",
        "left": "1.328125%",
        "position": "fixed",
        "top": "24.82928240740741%",
        "width": "43.046875%"
       }
      }
     }
    },
    "slideshow": {
     "slide_type": "fragment"
    },
    "tags": []
   },
   "outputs": [
    {
     "name": "stdout",
     "output_type": "stream",
     "text": [
      "Overwriting fib.py\n"
     ]
    }
   ],
   "source": [
    "%%file fib.py\n",
    "from beartype import beartype\n",
    "\n",
    "def fib_typed(n: int) -> int:\n",
    "    if n <= 1:\n",
    "        return n\n",
    "    else:\n",
    "        return fib_typed(n - 2) + fib_typed(n - 1)\n",
    "\n",
    "@beartype\n",
    "def fib_bear(n: int) -> int:\n",
    "    if n <= 1:\n",
    "        return n\n",
    "    else:\n",
    "        return fib_bear(n - 2) + fib_bear(n - 1)"
   ]
  },
  {
   "cell_type": "code",
   "execution_count": 45,
   "id": "a3ece06d-c597-427c-873c-5df4032e6333",
   "metadata": {
    "@deathbeds/jupyterlab-fonts": {
     "styles": {
      "": {
       "body[data-jp-deck-mode='presenting'] &": {
        "height": "154.3041087962963%",
        "left": "46.09375%",
        "position": "fixed",
        "top": "-0.8007812499999999%",
        "width": "53.593343098958336%",
        "zoom": null
       }
      }
     }
    },
    "slideshow": {
     "slide_type": "fragment"
    },
    "tags": []
   },
   "outputs": [
    {
     "name": "stdout",
     "output_type": "stream",
     "text": [
      " \n",
      "*** Profile stats marshalled to file '/tmp/tmpw2uif_u6'.\n",
      "Embedding SnakeViz in this document...\n"
     ]
    },
    {
     "data": {
      "text/html": [
       "\n",
       "<iframe id='snakeviz-93af4926-6102-11ed-93b3-84fdd1c9066c' frameborder=0 seamless width='100%' height='1000'></iframe>\n",
       "<script>document.getElementById(\"snakeviz-93af4926-6102-11ed-93b3-84fdd1c9066c\").setAttribute(\"src\", \"http://\" + document.location.hostname + \":8080/snakeviz/%2Ftmp%2Ftmpw2uif_u6\")</script>\n"
      ],
      "text/plain": [
       "<IPython.core.display.HTML object>"
      ]
     },
     "metadata": {},
     "output_type": "display_data"
    }
   ],
   "source": [
    "%reload_ext snakeviz\n",
    "%snakeviz import fib; fib.fib_typed(20); fib.fib_bear(20)"
   ]
  },
  {
   "cell_type": "markdown",
   "id": "bc206e54-168c-4948-800b-03e610dd4052",
   "metadata": {
    "@deathbeds/jupyterlab-fonts": {
     "styles": {
      "": {
       "body[data-jp-deck-mode='presenting'] &": {
        "height": "0%",
        "left": "1.953125%",
        "position": "fixed",
        "top": "92.266669921875%",
        "width": "95%"
       }
      }
     }
    }
   },
   "source": [
    " "
   ]
  },
  {
   "cell_type": "markdown",
   "id": "fc6f4cc2-b322-446e-96f1-8cf9c9f1e6be",
   "metadata": {
    "slideshow": {
     "slide_type": "slide"
    },
    "tags": []
   },
   "source": [
    "# A larger application"
   ]
  },
  {
   "cell_type": "code",
   "execution_count": 18,
   "id": "7815f92f-7ad3-49db-badb-7a3f109d6a61",
   "metadata": {},
   "outputs": [],
   "source": [
    "import asyncio\n",
    "from tornado import web, httpclient"
   ]
  },
  {
   "cell_type": "code",
   "execution_count": 19,
   "id": "2d3e8588-ec7a-4a2e-8f2d-6d104a1ec355",
   "metadata": {},
   "outputs": [],
   "source": [
    "class MainHandler(web.RequestHandler):\n",
    "    async def get(self, n):\n",
    "        self.write(str(fib(int(n))))"
   ]
  },
  {
   "cell_type": "code",
   "execution_count": 20,
   "id": "ca79d043-f627-4a73-949d-fa5c374a176b",
   "metadata": {},
   "outputs": [],
   "source": [
    "async def main():\n",
    "    application = web.Application([\n",
    "        (r\"/fib/(?P<n>\\d*)\", MainHandler),\n",
    "    ])\n",
    "    application.listen(8899)\n",
    "    await asyncio.Event().wait()"
   ]
  },
  {
   "cell_type": "markdown",
   "id": "bc0cd2f4-fc0f-4820-b44d-7e5c6eb87813",
   "metadata": {},
   "source": [
    "## And yet it runs"
   ]
  },
  {
   "cell_type": "code",
   "execution_count": 21,
   "id": "d44ea57b-90e3-4b9f-a8ca-856fb4643916",
   "metadata": {},
   "outputs": [
    {
     "data": {
      "text/plain": [
       "<Task pending name='Task-4' coro=<main() running at /tmp/ipykernel_27318/2913153505.py:1>>"
      ]
     },
     "execution_count": 21,
     "metadata": {},
     "output_type": "execute_result"
    }
   ],
   "source": [
    "asyncio.create_task(main())"
   ]
  },
  {
   "cell_type": "markdown",
   "id": "3a930891-8832-4979-8775-f45defb32b7b",
   "metadata": {
    "slideshow": {
     "slide_type": "slide"
    },
    "tags": []
   },
   "source": [
    "## From a client"
   ]
  },
  {
   "cell_type": "code",
   "execution_count": 22,
   "id": "8d28d0e5-c833-454a-b8c7-c7a9c35061ee",
   "metadata": {},
   "outputs": [
    {
     "name": "stderr",
     "output_type": "stream",
     "text": [
      "WARNING:tornado.access:404 GET /10 (127.0.0.1) 1.48ms\n"
     ]
    },
    {
     "ename": "HTTPClientError",
     "evalue": "HTTP 404: Not Found",
     "output_type": "error",
     "traceback": [
      "\u001b[0;31m---------------------------------------------------------------------------\u001b[0m",
      "\u001b[0;31mHTTPClientError\u001b[0m                           Traceback (most recent call last)",
      "Cell \u001b[0;32mIn [22], line 1\u001b[0m\n\u001b[0;32m----> 1\u001b[0m r \u001b[38;5;241m=\u001b[39m \u001b[38;5;28;01mawait\u001b[39;00m httpclient\u001b[38;5;241m.\u001b[39mAsyncHTTPClient()\u001b[38;5;241m.\u001b[39mfetch(\u001b[38;5;124m\"\u001b[39m\u001b[38;5;124mhttp://127.0.0.1:8899/10\u001b[39m\u001b[38;5;124m\"\u001b[39m)\n",
      "\u001b[0;31mHTTPClientError\u001b[0m: HTTP 404: Not Found"
     ]
    }
   ],
   "source": [
    "r = await httpclient.AsyncHTTPClient().fetch(\"http://127.0.0.1:8899/10\")"
   ]
  },
  {
   "cell_type": "code",
   "execution_count": null,
   "id": "0fb99274-5d01-4ae0-9530-fa00e9ba2d79",
   "metadata": {},
   "outputs": [],
   "source": [
    "r.body"
   ]
  },
  {
   "cell_type": "markdown",
   "id": "69462e78-bc04-4a10-b50c-1afa65848313",
   "metadata": {},
   "source": [
    " "
   ]
  },
  {
   "cell_type": "markdown",
   "id": "6fcb7516-cabf-42bf-873b-d5aad25a3f99",
   "metadata": {
    "slideshow": {
     "slide_type": "slide"
    },
    "tags": []
   },
   "source": [
    "# **fuzz** testing with `atheris`"
   ]
  },
  {
   "cell_type": "markdown",
   "id": "7329ba6c-6649-4c80-9087-098d8faa663e",
   "metadata": {
    "slideshow": {
     "slide_type": "slide"
    },
    "tags": []
   },
   "source": [
    "# **acceptance** testing with `robotframework`"
   ]
  },
  {
   "cell_type": "markdown",
   "id": "de2f40c1-bc10-4c8f-80aa-604540e4f072",
   "metadata": {
    "slideshow": {
     "slide_type": "slide"
    },
    "tags": []
   },
   "source": [
    "# **conformance** testing with `schemathesis`"
   ]
  },
  {
   "cell_type": "markdown",
   "id": "c4c826c1-8801-445b-8d31-4434bd632e95",
   "metadata": {
    "slideshow": {
     "slide_type": "slide"
    },
    "tags": []
   },
   "source": [
    "# load testing with `locust`"
   ]
  }
 ],
 "metadata": {
  "kernelspec": {
   "display_name": "Python 3 (ipykernel)",
   "language": "python",
   "name": "python3"
  },
  "language_info": {
   "codemirror_mode": {
    "name": "ipython",
    "version": 3
   },
   "file_extension": ".py",
   "mimetype": "text/x-python",
   "name": "python",
   "nbconvert_exporter": "python",
   "pygments_lexer": "ipython3",
   "version": "3.10.6"
  },
  "toc-autonumbering": true
 },
 "nbformat": 4,
 "nbformat_minor": 5
}
