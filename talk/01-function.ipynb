{
 "cells": [
  {
   "cell_type": "markdown",
   "id": "f2eb434b-b974-4fb6-ac49-276cd8cb9aba",
   "metadata": {
    "@deathbeds/jupyterlab-fonts": {
     "styles": {
      "": {
       "body[data-jp-deck-mode='presenting'] &": {
        "height": "10.751591435185185%",
        "left": "1.7708333333333333%",
        "position": "fixed",
        "top": "3.0258969907407405%",
        "width": "93.33333333333333%"
       }
      }
     }
    }
   },
   "source": [
    "# A simple function"
   ]
  },
  {
   "cell_type": "markdown",
   "id": "c28e0d4f-7c4c-442c-9476-a71fdde45230",
   "metadata": {
    "@deathbeds/jupyterlab-fonts": {
     "styles": {
      "": {
       "body[data-jp-deck-mode='presenting'] &": {
        "height": "79.70341435185185%",
        "left": "37.083333333333336%",
        "position": "fixed",
        "top": "15.750868055555555%",
        "width": "62.135416666666664%"
       }
      }
     }
    },
    "jupyterlab-deck": {
     "layer": "slide"
    },
    "tags": []
   },
   "source": [
    "![](img/Fibonacci_staircase_at_St_Johns_College_Cambridge_UK_Valerian_Guillot.jpg)"
   ]
  },
  {
   "cell_type": "code",
   "execution_count": null,
   "id": "4726516c-c991-4e43-8e67-89f1f73a6d97",
   "metadata": {
    "@deathbeds/jupyterlab-fonts": {
     "styles": {
      "": {
       "body[data-jp-deck-mode='presenting'] &": {
        "height": "16.38888888888889%",
        "left": "1.9791666666666665%",
        "position": "fixed",
        "top": "16.11111111111111%",
        "width": "34.437662760416664%"
       }
      }
     }
    },
    "jupyterlab-deck": {
     "layer": null
    },
    "tags": []
   },
   "outputs": [],
   "source": [
    "%%file fib.py\n",
    "def fib(n):\n",
    "    if n <= 1: return n\n",
    "    else: return fib(n - 2) + fib(n - 1)"
   ]
  },
  {
   "cell_type": "markdown",
   "id": "9925eaf4-450d-4344-9e31-9894bef8db10",
   "metadata": {
    "@deathbeds/jupyterlab-fonts": {
     "styles": {
      "": {
       "body[data-jp-deck-mode='presenting'] &": {
        "height": "8.959056712962964%",
        "left": "1.25%",
        "position": "fixed",
        "top": "39.142795138888886%",
        "width": "36.770833333333336%"
       }
      }
     }
    },
    "slideshow": {
     "slide_type": "fragment"
    },
    "tags": []
   },
   "source": [
    "## ...can be tested interactively"
   ]
  },
  {
   "cell_type": "code",
   "execution_count": null,
   "id": "dced6536-1ebf-43ed-b991-27465dfacc3e",
   "metadata": {
    "@deathbeds/jupyterlab-fonts": {
     "styles": {
      "": {
       "body[data-jp-deck-mode='presenting'] &": {
        "height": "14.166666666666666%",
        "left": "1.25%",
        "position": "fixed",
        "top": "56.39973958333333%",
        "width": "36.97916666666667%"
       }
      }
     }
    },
    "tags": []
   },
   "outputs": [],
   "source": [
    "%reload_ext autoreload\n",
    "%autoreload 2\n",
    "import fib\n",
    "fib.fib(5)"
   ]
  },
  {
   "cell_type": "markdown",
   "id": "16964b4d-051b-4ef7-859b-2d307b462758",
   "metadata": {
    "@deathbeds/jupyterlab-fonts": {
     "styles": {
      "": {
       "body[data-jp-deck-mode='presenting'] &": {
        "height": "8.959056712962964%",
        "left": "1.2495930989583333%",
        "position": "fixed",
        "top": "78.11197916666667%",
        "width": "42.70833333333333%"
       }
      }
     }
    },
    "slideshow": {
     "slide_type": "fragment"
    },
    "tags": []
   },
   "source": [
    "## Looks about right, ship it."
   ]
  },
  {
   "cell_type": "markdown",
   "id": "cec38ac5-3a64-4e98-be11-40291ee7f7a2",
   "metadata": {
    "@deathbeds/jupyterlab-fonts": {
     "styles": {
      "": {
       "body[data-jp-deck-mode='presenting'] &": {
        "height": "0%",
        "left": "2.604166666666667%",
        "position": "fixed",
        "top": "97.22222222222221%",
        "width": "93.33333333333333%"
       }
      }
     }
    }
   },
   "source": [
    " "
   ]
  },
  {
   "cell_type": "markdown",
   "id": "666636b8-3ea0-4a1f-a544-d3f423abe6d4",
   "metadata": {
    "@deathbeds/jupyterlab-fonts": {
     "styles": {
      "": {
       "body[data-jp-deck-mode='presenting'] &": {
        "height": "12.405237268518517%",
        "left": "1.5625%",
        "position": "fixed",
        "top": "2.332175925925926%",
        "width": "46.770833333333336%"
       }
      }
     }
    },
    "slideshow": {
     "slide_type": "slide"
    },
    "tags": []
   },
   "source": [
    "# But it could `assert` itself..."
   ]
  },
  {
   "cell_type": "code",
   "execution_count": null,
   "id": "bca72709-f363-48f6-a417-23d64af83a32",
   "metadata": {
    "@deathbeds/jupyterlab-fonts": {
     "styles": {
      "": {
       "body[data-jp-deck-mode='presenting'] &": {
        "height": "41%",
        "left": "1.5625%",
        "position": "fixed",
        "top": "16.72166748046875%",
        "width": "46.5625%"
       }
      }
     }
    },
    "scrolled": true,
    "slideshow": {
     "slide_type": "fragment"
    },
    "tags": []
   },
   "outputs": [],
   "source": [
    "%%file fib.py\n",
    "def fib(n):\n",
    "    \"\"\" Return the `n`th fibonacci sequence number\n",
    "    >>> assert fib(1) == 1\n",
    "    >>> assert fib(5) == 5\n",
    "    \"\"\"\n",
    "    if n <= 1: return n\n",
    "    else: return fib(n - 2) + fib(n - 1)"
   ]
  },
  {
   "cell_type": "code",
   "execution_count": null,
   "id": "08305da1-e57e-4e29-b077-518d6b703ec5",
   "metadata": {
    "@deathbeds/jupyterlab-fonts": {
     "styles": {
      "": {
       "body[data-jp-deck-mode='presenting'] &": {
        "height": "20.66916748046875%",
        "left": "1.5625%",
        "position": "fixed",
        "top": "59.774169921875%",
        "width": "46.5625%"
       }
      }
     }
    },
    "slideshow": {
     "slide_type": "fragment"
    },
    "tags": []
   },
   "outputs": [],
   "source": [
    "import fib\n",
    "print(fib.fib(1))\n",
    "print(fib.fib(10))"
   ]
  },
  {
   "cell_type": "markdown",
   "id": "2bef674e-300e-4317-8133-dfa15f81d887",
   "metadata": {
    "@deathbeds/jupyterlab-fonts": {
     "styles": {
      "": {
       "body[data-jp-deck-mode='presenting'] &": {
        "height": "12.374131944444445%",
        "left": "48.645833333333336%",
        "position": "fixed",
        "top": "3.8585069444444446%",
        "width": "49.166259765625%"
       }
      }
     }
    },
    "slideshow": {
     "slide_type": "fragment"
    },
    "tags": []
   },
   "source": [
    "## ... and be **unit** tested with `doctest`\n"
   ]
  },
  {
   "cell_type": "code",
   "execution_count": null,
   "id": "b82622d0-cad4-4bdd-8722-2573788c6fa5",
   "metadata": {
    "@deathbeds/jupyterlab-fonts": {
     "styles": {
      "": {
       "body[data-jp-deck-mode='presenting'] &": {
        "height": "10.694444444444445%",
        "left": "49.140625%",
        "position": "fixed",
        "top": "18.125%",
        "width": "48.671875%"
       }
      }
     }
    },
    "tags": []
   },
   "outputs": [],
   "source": [
    "%%file test_fib.py\n",
    "import fib\n",
    "__import__(\"doctest\").testmod(fib)"
   ]
  },
  {
   "cell_type": "code",
   "execution_count": null,
   "id": "fae8948d-9e93-45a4-81cf-187fdc1f7032",
   "metadata": {
    "@deathbeds/jupyterlab-fonts": {
     "styles": {
      "": {
       "body[data-jp-deck-mode='presenting'] &": {
        "height": "37.962964375813804%",
        "left": "49.166669845581055%",
        "position": "fixed",
        "top": "30.277777777777775%",
        "width": "47.08333492279053%"
       }
      }
     }
    }
   },
   "outputs": [],
   "source": [
    "!python3 test_fib.py -v"
   ]
  },
  {
   "cell_type": "markdown",
   "id": "85fb3114-546a-4489-a1bb-80dcafad97e9",
   "metadata": {
    "@deathbeds/jupyterlab-fonts": {
     "styles": {
      "": {
       "body[data-jp-deck-mode='presenting'] &": {
        "height": "0%",
        "left": "2.604166666666667%",
        "position": "fixed",
        "top": "88.88888888888889%",
        "width": "93.33333333333333%"
       }
      }
     }
    }
   },
   "source": [
    " "
   ]
  },
  {
   "cell_type": "markdown",
   "id": "78c68006-3261-4cae-a015-9d30b131b4e2",
   "metadata": {
    "@deathbeds/jupyterlab-fonts": {
     "styles": {
      "": {
       "body[data-jp-deck-mode='presenting'] &": {
        "height": "8.063512731481481%",
        "left": "2.578125%",
        "position": "fixed",
        "top": "2.508680555555556%",
        "width": "64.0625%"
       }
      }
     }
    },
    "slideshow": {
     "slide_type": "slide"
    },
    "tags": []
   },
   "source": [
    "# What might we do with a **unit** test suite?"
   ]
  },
  {
   "cell_type": "markdown",
   "id": "5c706c69-16df-4372-ba10-fd5001ed153d",
   "metadata": {
    "@deathbeds/jupyterlab-fonts": {
     "styles": {
      "": {
       "body[data-jp-deck-mode='presenting'] &": {
        "height": "7.7524594907407405%",
        "left": "2.65625%",
        "position": "fixed",
        "top": "21.30859375%",
        "width": "52.942708333333336%"
       }
      }
     }
    },
    "slideshow": {
     "slide_type": "fragment"
    },
    "tags": []
   },
   "source": [
    "## measure **coverage** with `coverage`"
   ]
  },
  {
   "cell_type": "code",
   "execution_count": null,
   "id": "6bdc07a6-765b-4015-9154-ecae96ae8b85",
   "metadata": {
    "@deathbeds/jupyterlab-fonts": {
     "styles": {
      "": {
       "body[data-jp-deck-mode='presenting'] &": {
        "height": "18.61111111111111%",
        "left": "2.473958333333333%",
        "position": "fixed",
        "top": "33.24074074074074%",
        "width": "46.71875%"
       }
      }
     }
    },
    "tags": []
   },
   "outputs": [],
   "source": [
    "!coverage run --branch --source fib test_fib.py\n",
    "!coverage report"
   ]
  },
  {
   "cell_type": "markdown",
   "id": "2efe30b1-9430-4785-93af-348a284a014f",
   "metadata": {
    "@deathbeds/jupyterlab-fonts": {
     "styles": {
      "": {
       "body[data-jp-deck-mode='presenting'] &": {
        "height": "7.7524594907407405%",
        "left": "50.33854166666667%",
        "position": "fixed",
        "top": "11.864149305555555%",
        "width": "45.130208333333336%"
       }
      }
     }
    },
    "slideshow": {
     "slide_type": "fragment"
    },
    "tags": []
   },
   "source": [
    "## infer **type** stubs with `monkeytype`"
   ]
  },
  {
   "cell_type": "code",
   "execution_count": null,
   "id": "bb431882-6a27-4e3c-b017-ce83dc778cdb",
   "metadata": {
    "@deathbeds/jupyterlab-fonts": {
     "styles": {
      "": {
       "body[data-jp-deck-mode='presenting'] &": {
        "height": "18.61111111111111%",
        "left": "50.598958333333336%",
        "position": "fixed",
        "top": "21.296296296296298%",
        "width": "45.260416666666664%"
       }
      }
     }
    },
    "tags": []
   },
   "outputs": [],
   "source": [
    "!monkeytype run test_fib.py\n",
    "!monkeytype stub fib"
   ]
  },
  {
   "cell_type": "markdown",
   "id": "18c44a9c-7bbc-478e-a925-532ef27d3d81",
   "metadata": {
    "@deathbeds/jupyterlab-fonts": {
     "styles": {
      "": {
       "body[data-jp-deck-mode='presenting'] &": {
        "height": "7.75245984395345%",
        "left": "50.546875%",
        "position": "fixed",
        "top": "41.123411390516495%",
        "width": "46.796875%"
       }
      }
     }
    },
    "slideshow": {
     "slide_type": "fragment"
    },
    "tags": []
   },
   "source": [
    "## or apply **type hints** in the source"
   ]
  },
  {
   "cell_type": "code",
   "execution_count": null,
   "id": "71927022-03b5-48fc-a197-7dcbd0de8dc3",
   "metadata": {
    "@deathbeds/jupyterlab-fonts": {
     "styles": {
      "": {
       "body[data-jp-deck-mode='presenting'] &": {
        "height": "18.61111111111111%",
        "left": "50.49479166666667%",
        "position": "fixed",
        "top": "51.52777777777777%",
        "width": "46.71875%"
       }
      }
     }
    },
    "tags": []
   },
   "outputs": [],
   "source": [
    "!monkeytype apply fib"
   ]
  },
  {
   "cell_type": "markdown",
   "id": "291fb4f5-af39-48f5-80c5-1d6fc2f03ae2",
   "metadata": {
    "@deathbeds/jupyterlab-fonts": {
     "styles": {
      "": {
       "body[data-jp-deck-mode='presenting'] &": {
        "height": "3.75%",
        "left": "1.7187500000000002%",
        "position": "fixed",
        "top": "88.95833333333333%",
        "width": "95%"
       }
      }
     }
    },
    "tags": []
   },
   "source": [
    " "
   ]
  },
  {
   "cell_type": "markdown",
   "id": "5fbbd14b-3958-499c-9dda-a99ef93797cb",
   "metadata": {
    "@deathbeds/jupyterlab-fonts": {
     "styles": {
      "": {
       "body[data-jp-deck-mode='presenting'] &": {
        "height": "12.590422453703704%",
        "left": "1.4583333333333333%",
        "position": "fixed",
        "top": "0.5092592592592593%",
        "width": "47.96875%"
       }
      }
     }
    },
    "slideshow": {
     "slide_type": "slide"
    },
    "tags": []
   },
   "source": [
    "# **type hints** add intent"
   ]
  },
  {
   "cell_type": "code",
   "execution_count": null,
   "id": "46e2a12c-14a9-4978-9e18-55746244bb42",
   "metadata": {
    "@deathbeds/jupyterlab-fonts": {
     "styles": {
      "": {
       "body[data-jp-deck-mode='presenting'] &": {
        "height": "26.38888888888889%",
        "left": "1.5625%",
        "position": "fixed",
        "top": "10.05714734395345%",
        "width": "47.604169845581055%"
       }
      }
     }
    }
   },
   "outputs": [],
   "source": [
    "from pathlib import Path; from IPython.display import Code\n",
    "fib_path = Path(\"fib.py\"); Code(fib_path)"
   ]
  },
  {
   "cell_type": "markdown",
   "id": "f24707c8-f2ca-436d-85af-399a13ae8d1b",
   "metadata": {
    "@deathbeds/jupyterlab-fonts": {
     "styles": {
      "": {
       "body[data-jp-deck-mode='presenting'] &": {
        "height": "10.625723732842339%",
        "left": "50.416669845581055%",
        "position": "fixed",
        "top": "2.1860535939534507%",
        "width": "46.25%"
       }
      }
     }
    },
    "slideshow": {
     "slide_type": "fragment"
    },
    "tags": []
   },
   "source": [
    "## ... but only do so much alone"
   ]
  },
  {
   "cell_type": "code",
   "execution_count": null,
   "id": "c8fadfb5-995f-4a80-823f-ce007e6e3cd1",
   "metadata": {
    "@deathbeds/jupyterlab-fonts": {
     "styles": {
      "": {
       "body[data-jp-deck-mode='presenting'] &": {
        "height": "42.68446180555556%",
        "left": "50.49479484558106%",
        "position": "fixed",
        "top": "14.212963316175673%",
        "width": "48.229169845581055%"
       }
      }
     }
    },
    "slideshow": {
     "slide_type": "fragment"
    },
    "tags": []
   },
   "outputs": [],
   "source": [
    "try:\n",
    "    fib.fib(\"foo\")  # actually have to enter the code\n",
    "except Exception as err:\n",
    "    print(err)"
   ]
  },
  {
   "cell_type": "markdown",
   "id": "752a16fc-2a4d-4ffb-9342-a7d0516152fc",
   "metadata": {
    "@deathbeds/jupyterlab-fonts": {
     "styles": {
      "": {
       "body[data-jp-deck-mode='presenting'] &": {
        "height": "12.405237268518517%",
        "left": "1.4583333333333333%",
        "position": "fixed",
        "top": "50.278501157407405%",
        "width": "50.72916666666667%"
       }
      }
     }
    },
    "slideshow": {
     "slide_type": "fragment"
    },
    "tags": []
   },
   "source": [
    "# **type check** with `beartype`"
   ]
  },
  {
   "cell_type": "code",
   "execution_count": null,
   "id": "5240a6c2-7e3f-42d4-8a2e-eddafd51ffad",
   "metadata": {
    "@deathbeds/jupyterlab-fonts": {
     "styles": {
      "": {
       "body[data-jp-deck-mode='presenting'] &": {
        "height": "26.944444444444443%",
        "left": "1.4583333333333333%",
        "position": "fixed",
        "top": "62.85879629629629%",
        "width": "45.729166666666664%"
       }
      }
     }
    },
    "jupyterlab-deck": {
     "layer": null
    },
    "slideshow": {
     "slide_type": null
    },
    "tags": []
   },
   "outputs": [],
   "source": [
    "fibear_path = Path(\"fibear.py\")\n",
    "fibear_path.write_text(f\"\"\"\n",
    "from beartype import beartype\n",
    "@beartype\n",
    "{fib_path.read_text().strip() }\n",
    "\"\"\")"
   ]
  },
  {
   "cell_type": "code",
   "execution_count": null,
   "id": "7bea054b-8b69-4f2e-b09a-31886a6cdf88",
   "metadata": {
    "@deathbeds/jupyterlab-fonts": {
     "styles": {
      "": {
       "body[data-jp-deck-mode='presenting'] &": {
        "height": "17.685185185185183%",
        "left": "49.895833333333336%",
        "position": "fixed",
        "top": "35.69444444444444%",
        "width": "48.229166666666664%"
       }
      }
     }
    },
    "slideshow": {
     "slide_type": "fragment"
    },
    "tags": []
   },
   "outputs": [],
   "source": [
    "import fibear\n",
    "try:\n",
    "    fibear.fib(\"bear\")  # rejects bad inputs at the door\n",
    "except Exception as err:\n",
    "    print(err)"
   ]
  },
  {
   "cell_type": "markdown",
   "id": "6b30044d-c1b1-40ef-be6e-3da438694b25",
   "metadata": {
    "@deathbeds/jupyterlab-fonts": {
     "styles": {
      "": {
       "body[data-jp-deck-mode='presenting'] &": {
        "height": "11.38888888888889%",
        "left": "50.312093098958336%",
        "position": "fixed",
        "top": "68.2863136574074%",
        "width": "48.4375%"
       }
      }
     }
    },
    "slideshow": {
     "slide_type": "fragment"
    },
    "tags": []
   },
   "source": [
    "## ...but what does it **cost**?"
   ]
  },
  {
   "cell_type": "markdown",
   "id": "78365269-c640-4cae-8127-527757c885af",
   "metadata": {
    "@deathbeds/jupyterlab-fonts": {
     "styles": {
      "": {
       "body[data-jp-deck-mode='presenting'] &": {
        "height": "0%",
        "left": "2.2916666666666665%",
        "position": "fixed",
        "top": "92.77777777777779%",
        "width": "93.33333333333333%"
       }
      }
     }
    }
   },
   "source": [
    " "
   ]
  },
  {
   "cell_type": "markdown",
   "id": "79617c2b-6f90-4b48-8463-71e2c71713eb",
   "metadata": {
    "@deathbeds/jupyterlab-fonts": {
     "styles": {
      "": {
       "body[data-jp-deck-mode='presenting'] &": {
        "height": "12.405237268518517%",
        "left": "2.2916666666666665%",
        "position": "fixed",
        "top": "3.5655381944444446%",
        "width": "93.33333333333333%"
       }
      }
     }
    },
    "slideshow": {
     "slide_type": "slide"
    },
    "tags": []
   },
   "source": [
    "# **benchmark** with `timeit`"
   ]
  },
  {
   "cell_type": "code",
   "execution_count": null,
   "id": "c043ba93-cff6-45c7-88d0-45f0af2819ac",
   "metadata": {
    "@deathbeds/jupyterlab-fonts": {
     "styles": {
      "": {
       "body[data-jp-deck-mode='presenting'] &": {
        "height": "12.685185185185185%",
        "left": "2.291259765625%",
        "position": "fixed",
        "top": "19.39814814814815%",
        "width": "46.978759765625%"
       }
      }
     }
    },
    "scrolled": true,
    "tags": []
   },
   "outputs": [],
   "source": [
    "t0 = %timeit -o fib.fib(10)"
   ]
  },
  {
   "cell_type": "code",
   "execution_count": null,
   "id": "86743793-fcea-4dc1-878a-5b8bff5f8bc6",
   "metadata": {
    "@deathbeds/jupyterlab-fonts": {
     "styles": {
      "": {
       "body[data-jp-deck-mode='presenting'] &": {
        "height": "12.685185185185185%",
        "left": "50.83251953125%",
        "position": "fixed",
        "top": "19.212962962962962%",
        "width": "47.186279296875%"
       }
      }
     }
    },
    "slideshow": {
     "slide_type": "fragment"
    },
    "tags": []
   },
   "outputs": [],
   "source": [
    "t1 = %timeit -o fibear.fib(10)"
   ]
  },
  {
   "cell_type": "markdown",
   "id": "ca5d8773-d051-4407-b63e-1d570704929e",
   "metadata": {
    "@deathbeds/jupyterlab-fonts": {
     "styles": {
      "": {
       "body[data-jp-deck-mode='presenting'] &": {
        "height": "9.333043981481481%",
        "left": "46.666666666666664%",
        "position": "fixed",
        "top": "34.40755208333333%",
        "width": "47.8125%"
       }
      }
     }
    },
    "slideshow": {
     "slide_type": "fragment"
    },
    "tags": []
   },
   "source": [
    "## ... are these **type hints** really worth it?"
   ]
  },
  {
   "cell_type": "markdown",
   "id": "13231e4c-ca46-49dd-bce2-be84c2b0bd07",
   "metadata": {
    "@deathbeds/jupyterlab-fonts": {
     "styles": {
      "": {
       "body[data-jp-deck-mode='presenting'] &": {
        "height": "7.466001157407407%",
        "left": "1.978759765625%",
        "position": "fixed",
        "top": "34.414785879629626%",
        "width": "43.4375%"
       }
      }
     }
    },
    "slideshow": {
     "slide_type": "fragment"
    },
    "tags": []
   },
   "source": [
    "# **compile** with `mypyc`"
   ]
  },
  {
   "cell_type": "code",
   "execution_count": null,
   "id": "6d38a0ff-8d8d-469e-8f97-13134d9f8e8a",
   "metadata": {
    "@deathbeds/jupyterlab-fonts": {
     "styles": {
      "": {
       "body[data-jp-deck-mode='presenting'] &": {
        "height": "6.388888888888888%",
        "left": "1.978759765625%",
        "position": "fixed",
        "top": "45.32407407407407%",
        "width": "38.4375%"
       }
      }
     }
    },
    "tags": []
   },
   "outputs": [],
   "source": [
    "%reload_ext mypyc_ipython"
   ]
  },
  {
   "cell_type": "code",
   "execution_count": null,
   "id": "7b796fbe-36e5-44e8-b880-4704adcabcf6",
   "metadata": {
    "@deathbeds/jupyterlab-fonts": {
     "styles": {
      "": {
       "body[data-jp-deck-mode='presenting'] &": {
        "height": "20.64814814814815%",
        "left": "2.1875%",
        "position": "fixed",
        "top": "53.425925925925924%",
        "width": "38.229166666666664%"
       }
      }
     }
    },
    "scrolled": true,
    "slideshow": {
     "slide_type": "fragment"
    },
    "tags": []
   },
   "outputs": [],
   "source": [
    "%%mypyc\n",
    "def fib_c(n: int) -> int:\n",
    "    if n <= 1: return n\n",
    "    else: return fib_c(n - 2) + fib_c(n - 1)"
   ]
  },
  {
   "cell_type": "code",
   "execution_count": null,
   "id": "0d6e105d-af19-44d4-aa44-0c22ce92d85d",
   "metadata": {
    "@deathbeds/jupyterlab-fonts": {
     "styles": {
      "": {
       "body[data-jp-deck-mode='presenting'] &": {
        "height": "12.685185185185185%",
        "left": "51.041666666666664%",
        "position": "fixed",
        "top": "46.249276620370374%",
        "width": "46.979166666666664%"
       }
      }
     }
    },
    "slideshow": {
     "slide_type": "fragment"
    },
    "tags": []
   },
   "outputs": [],
   "source": [
    "t3 = %timeit -o fib_c(10)"
   ]
  },
  {
   "cell_type": "code",
   "execution_count": null,
   "id": "003cacdc-7b27-41c3-b82e-7ed90d6f66da",
   "metadata": {
    "@deathbeds/jupyterlab-fonts": {
     "styles": {
      "": {
       "body[data-jp-deck-mode='presenting'] &": {
        "height": "10.277777777777777%",
        "left": "50.9375%",
        "position": "fixed",
        "top": "61.06409143518518%",
        "width": "45.416666666666664%"
       }
      }
     }
    },
    "slideshow": {
     "slide_type": "fragment"
    },
    "tags": []
   },
   "outputs": [],
   "source": [
    "[f\"{int(t.average / t3.average)}x\" for t in [t0, t1]]"
   ]
  },
  {
   "cell_type": "markdown",
   "id": "d8db87bc-9250-499e-901c-7e5a052412ea",
   "metadata": {
    "@deathbeds/jupyterlab-fonts": {
     "styles": {
      "": {
       "body[data-jp-deck-mode='presenting'] &": {
        "height": "4.907407407407407%",
        "left": "1.875%",
        "position": "fixed",
        "top": "85.32407407407408%",
        "width": "93.33333333333333%"
       }
      }
     }
    },
    "tags": []
   },
   "source": [
    " "
   ]
  },
  {
   "cell_type": "markdown",
   "id": "48c62fe0-3e4e-4b7c-a24b-21fbaba0849f",
   "metadata": {
    "@deathbeds/jupyterlab-fonts": {
     "styles": {
      "": {
       "body[data-jp-deck-mode='presenting'] &": {
        "height": "6.245835554371002%",
        "left": "1.1979166666666667%",
        "position": "fixed",
        "top": "1.5625%",
        "width": "43.020833333333336%"
       }
      }
     }
    },
    "slideshow": {
     "slide_type": "slide"
    },
    "tags": []
   },
   "source": [
    "# **profile** with `snakeviz` "
   ]
  },
  {
   "cell_type": "code",
   "execution_count": null,
   "id": "a3ece06d-c597-427c-873c-5df4032e6333",
   "metadata": {
    "@deathbeds/jupyterlab-fonts": {
     "styles": {
      "": {
       "body[data-jp-deck-mode='presenting'] &": {
        "height": "157.63744212962962%",
        "left": "0.9895833333333333%",
        "position": "fixed",
        "top": "14.569589120370372%",
        "width": "97.34334309895833%",
        "zoom": null
       }
      }
     }
    },
    "scrolled": true,
    "slideshow": {
     "slide_type": "fragment"
    },
    "tags": []
   },
   "outputs": [],
   "source": [
    "%reload_ext snakeviz\n",
    "%snakeviz fibear.fib(20); fib.fib(20); fib_c(20)"
   ]
  },
  {
   "cell_type": "markdown",
   "id": "bc206e54-168c-4948-800b-03e610dd4052",
   "metadata": {
    "@deathbeds/jupyterlab-fonts": {
     "styles": {
      "": {
       "body[data-jp-deck-mode='presenting'] &": {
        "height": "0%",
        "left": "1.953125%",
        "position": "fixed",
        "top": "92.266669921875%",
        "width": "95%"
       }
      }
     }
    }
   },
   "source": [
    " "
   ]
  },
  {
   "cell_type": "markdown",
   "id": "58f12a22-34e9-448d-a4c3-1833a34ad94f",
   "metadata": {
    "@deathbeds/jupyterlab-fonts": {
     "styles": {
      "": {
       "body[data-jp-deck-mode='presenting'] &": {
        "height": "12.590422453703704%",
        "left": "2.9166666666666665%",
        "position": "fixed",
        "top": "2.6396122685185186%",
        "width": "38.645833333333336%"
       }
      }
     }
    },
    "slideshow": {
     "slide_type": "slide"
    },
    "tags": []
   },
   "source": [
    "# **fuzz** test with `atheris`"
   ]
  },
  {
   "cell_type": "code",
   "execution_count": null,
   "id": "0acf25dd-3bd1-48e9-9c6e-34242a032b70",
   "metadata": {
    "@deathbeds/jupyterlab-fonts": {
     "styles": {
      "": {
       "body[data-jp-deck-mode='presenting'] &": {
        "height": "42.68518518518519%",
        "left": "3.0208333333333335%",
        "position": "fixed",
        "top": "15.324074074074073%",
        "width": "36.354166666666664%"
       }
      }
     }
    },
    "tags": []
   },
   "outputs": [],
   "source": [
    "%%file fuzz.py\n",
    "import atheris\n",
    "\n",
    "with atheris.instrument_imports():\n",
    "    import fib, fibear, sys\n",
    "\n",
    "def TestOneInput(data):\n",
    "    fdp = atheris.FuzzedDataProvider(data)\n",
    "    n = fdp.ConsumeInt(2)\n",
    "    fib.fib(n)\n",
    "    fibear.fib(n)\n",
    "\n",
    "atheris.Setup(sys.argv, TestOneInput)\n",
    "atheris.Fuzz()"
   ]
  },
  {
   "cell_type": "code",
   "execution_count": null,
   "id": "aa83290b-04ca-46c5-af3e-bb43e058a6ee",
   "metadata": {
    "@deathbeds/jupyterlab-fonts": {
     "styles": {
      "": {
       "body[data-jp-deck-mode='presenting'] &": {
        "height": "82.31481481481482%",
        "left": "39.895833333333336%",
        "position": "fixed",
        "top": "2.5911458333333335%",
        "width": "59.47916666666667%"
       }
      }
     }
    },
    "scrolled": true,
    "tags": []
   },
   "outputs": [],
   "source": [
    "!coverage run --branch --source=fib,fibear fuzz.py -atheris_runs=3\n",
    "!coverage report"
   ]
  },
  {
   "cell_type": "markdown",
   "id": "3dcc68a1-3025-4630-a96a-2d7735deac2c",
   "metadata": {
    "@deathbeds/jupyterlab-fonts": {
     "styles": {
      "": {
       "body[data-jp-deck-mode='presenting'] &": {
        "height": "4.907407407407407%",
        "left": "2.9166666666666665%",
        "position": "fixed",
        "top": "91.80555555555556%",
        "width": "93.33333333333333%"
       }
      }
     }
    },
    "tags": []
   },
   "source": [
    " "
   ]
  },
  {
   "cell_type": "markdown",
   "id": "2214866d-3281-4637-bb01-0ebbcb5d281b",
   "metadata": {
    "slideshow": {
     "slide_type": "slide"
    },
    "tags": []
   },
   "source": [
    "# Up the stack\n",
    "\n",
    "[A simple web app](./02-app.ipynb)"
   ]
  }
 ],
 "metadata": {
  "kernelspec": {
   "display_name": "Python 3 (ipykernel)",
   "language": "python",
   "name": "python3"
  },
  "language_info": {
   "codemirror_mode": {
    "name": "ipython",
    "version": 3
   },
   "file_extension": ".py",
   "mimetype": "text/x-python",
   "name": "python",
   "nbconvert_exporter": "python",
   "pygments_lexer": "ipython3",
   "version": "3.10.6"
  },
  "toc-autonumbering": true
 },
 "nbformat": 4,
 "nbformat_minor": 5
}
