{
 "cells": [
  {
   "cell_type": "markdown",
   "id": "f2eb434b-b974-4fb6-ac49-276cd8cb9aba",
   "metadata": {
    "@deathbeds/jupyterlab-fonts": {
     "styles": {
      "": {
       "body[data-jp-deck-mode='presenting'] &": {
        "height": "10.751591435185185%",
        "left": "1.7708333333333333%",
        "position": "fixed",
        "top": "3.0258969907407405%",
        "width": "93.33333333333333%"
       }
      }
     }
    }
   },
   "source": [
    "# A simple function"
   ]
  },
  {
   "cell_type": "markdown",
   "id": "c28e0d4f-7c4c-442c-9476-a71fdde45230",
   "metadata": {
    "@deathbeds/jupyterlab-fonts": {
     "styles": {
      "": {
       "body[data-jp-deck-mode='presenting'] &": {
        "height": "79.70341435185185%",
        "left": "37.083333333333336%",
        "position": "fixed",
        "top": "15.750868055555555%",
        "width": "62.135416666666664%"
       }
      }
     }
    },
    "jupyterlab-deck": {
     "layer": "slide"
    },
    "tags": []
   },
   "source": [
    "![](img/Fibonacci_staircase_at_St_Johns_College_Cambridge_UK_Valerian_Guillot.jpg)"
   ]
  },
  {
   "cell_type": "code",
   "execution_count": null,
   "id": "4726516c-c991-4e43-8e67-89f1f73a6d97",
   "metadata": {
    "@deathbeds/jupyterlab-fonts": {
     "styles": {
      "": {
       "body[data-jp-deck-mode='presenting'] &": {
        "height": "16.38888888888889%",
        "left": "1.9791666666666665%",
        "position": "fixed",
        "top": "16.11111111111111%",
        "width": "34.437662760416664%"
       }
      }
     }
    },
    "jupyterlab-deck": {
     "layer": "slide"
    },
    "tags": []
   },
   "outputs": [],
   "source": [
    "def fib(n):\n",
    "    if n <= 1:\n",
    "        return n\n",
    "    else:\n",
    "        return fib(n - 2) + fib(n - 1)"
   ]
  },
  {
   "cell_type": "markdown",
   "id": "9925eaf4-450d-4344-9e31-9894bef8db10",
   "metadata": {
    "@deathbeds/jupyterlab-fonts": {
     "styles": {
      "": {
       "body[data-jp-deck-mode='presenting'] &": {
        "height": "8.959056712962964%",
        "left": "1.25%",
        "position": "fixed",
        "top": "39.142795138888886%",
        "width": "36.770833333333336%"
       }
      }
     }
    },
    "slideshow": {
     "slide_type": "fragment"
    },
    "tags": []
   },
   "source": [
    "## ...can be tested interactively"
   ]
  },
  {
   "cell_type": "code",
   "execution_count": null,
   "id": "dced6536-1ebf-43ed-b991-27465dfacc3e",
   "metadata": {
    "@deathbeds/jupyterlab-fonts": {
     "styles": {
      "": {
       "body[data-jp-deck-mode='presenting'] &": {
        "height": "14.166666666666666%",
        "left": "1.25%",
        "position": "fixed",
        "top": "56.39973958333333%",
        "width": "36.97916666666667%"
       }
      }
     }
    },
    "tags": []
   },
   "outputs": [],
   "source": [
    "fib(5)"
   ]
  },
  {
   "cell_type": "markdown",
   "id": "16964b4d-051b-4ef7-859b-2d307b462758",
   "metadata": {
    "@deathbeds/jupyterlab-fonts": {
     "styles": {
      "": {
       "body[data-jp-deck-mode='presenting'] &": {
        "height": "8.959056712962964%",
        "left": "1.2495930989583333%",
        "position": "fixed",
        "top": "73.66825810185185%",
        "width": "42.70833333333333%"
       }
      }
     }
    },
    "tags": []
   },
   "source": [
    "## Looks about right, ship it."
   ]
  },
  {
   "cell_type": "markdown",
   "id": "cec38ac5-3a64-4e98-be11-40291ee7f7a2",
   "metadata": {
    "@deathbeds/jupyterlab-fonts": {
     "styles": {
      "": {
       "body[data-jp-deck-mode='presenting'] &": {
        "height": "0%",
        "left": "2.604166666666667%",
        "position": "fixed",
        "top": "97.22222222222221%",
        "width": "93.33333333333333%"
       }
      }
     }
    }
   },
   "source": [
    " "
   ]
  },
  {
   "cell_type": "markdown",
   "id": "666636b8-3ea0-4a1f-a544-d3f423abe6d4",
   "metadata": {
    "@deathbeds/jupyterlab-fonts": {
     "styles": {
      "": {
       "body[data-jp-deck-mode='presenting'] &": {
        "height": "12.405237268518517%",
        "left": "1.5625%",
        "position": "fixed",
        "top": "2.332175925925926%",
        "width": "46.770833333333336%"
       }
      }
     }
    },
    "slideshow": {
     "slide_type": "slide"
    },
    "tags": []
   },
   "source": [
    "# But it could `assert` itself..."
   ]
  },
  {
   "cell_type": "code",
   "execution_count": null,
   "id": "7ede32d3-b46a-4c43-b5e7-ad4b74e50d0c",
   "metadata": {
    "@deathbeds/jupyterlab-fonts": {
     "styles": {
      "": {
       "body[data-jp-deck-mode='presenting'] &": {
        "height": "20.64814814814815%",
        "left": "1.875%",
        "position": "fixed",
        "top": "15.572193287037036%",
        "width": "46.5625%"
       }
      }
     }
    },
    "tags": []
   },
   "outputs": [],
   "source": [
    "def fib(n):\n",
    "    \"\"\" Return the `n`th fibonacci sequence number\n",
    "    >>> assert fib(5) == 5\n",
    "    \"\"\"\n",
    "    if n <= 1:\n",
    "        return n\n",
    "    else:\n",
    "        return fib(n - 2) + fib(n - 1)\n",
    "\n",
    "\n",
    "print(fib(2))\n",
    "print(fib(10))"
   ]
  },
  {
   "cell_type": "markdown",
   "id": "2bef674e-300e-4317-8133-dfa15f81d887",
   "metadata": {
    "@deathbeds/jupyterlab-fonts": {
     "styles": {
      "": {
       "body[data-jp-deck-mode='presenting'] &": {
        "height": "12.374131944444445%",
        "left": "48.645833333333336%",
        "position": "fixed",
        "top": "3.8585069444444446%",
        "width": "49.166259765625%"
       }
      }
     }
    },
    "slideshow": {
     "slide_type": "fragment"
    },
    "tags": []
   },
   "source": [
    "## ... and be **unit** tested with `doctest`\n"
   ]
  },
  {
   "cell_type": "code",
   "execution_count": null,
   "id": "fae8948d-9e93-45a4-81cf-187fdc1f7032",
   "metadata": {
    "@deathbeds/jupyterlab-fonts": {
     "styles": {
      "": {
       "body[data-jp-deck-mode='presenting'] &": {
        "height": "57.68518518518518%",
        "left": "48.854166666666664%",
        "position": "fixed",
        "top": "15.694444444444445%",
        "width": "47.083333333333336%"
       }
      }
     }
    }
   },
   "outputs": [],
   "source": [
    "import doctest\n",
    "doctest.testmod(verbose=True)"
   ]
  },
  {
   "cell_type": "markdown",
   "id": "85fb3114-546a-4489-a1bb-80dcafad97e9",
   "metadata": {
    "@deathbeds/jupyterlab-fonts": {
     "styles": {
      "": {
       "body[data-jp-deck-mode='presenting'] &": {
        "height": "0%",
        "left": "2.604166666666667%",
        "position": "fixed",
        "top": "88.88888888888889%",
        "width": "93.33333333333333%"
       }
      }
     }
    }
   },
   "source": [
    " "
   ]
  },
  {
   "cell_type": "markdown",
   "id": "5fbbd14b-3958-499c-9dda-a99ef93797cb",
   "metadata": {
    "@deathbeds/jupyterlab-fonts": {
     "styles": {
      "": {
       "body[data-jp-deck-mode='presenting'] &": {
        "height": "12.590422453703704%",
        "left": "1.4583333333333333%",
        "position": "fixed",
        "top": "0.5092592592592593%",
        "width": "47.96875%"
       }
      }
     }
    },
    "slideshow": {
     "slide_type": "slide"
    },
    "tags": []
   },
   "source": [
    "# **type hints** add intent"
   ]
  },
  {
   "cell_type": "code",
   "execution_count": null,
   "id": "46e2a12c-14a9-4978-9e18-55746244bb42",
   "metadata": {
    "@deathbeds/jupyterlab-fonts": {
     "styles": {
      "": {
       "body[data-jp-deck-mode='presenting'] &": {
        "height": "26.38888888888889%",
        "left": "1.5625%",
        "position": "fixed",
        "top": "15.05714699074074%",
        "width": "47.604166666666664%"
       }
      }
     }
    }
   },
   "outputs": [],
   "source": [
    "def fib_typed(n: int) -> int:\n",
    "    if n <= 1:\n",
    "        return n\n",
    "    else:\n",
    "        return fib_typed(n - 2) + fib_typed(n - 1)"
   ]
  },
  {
   "cell_type": "markdown",
   "id": "f24707c8-f2ca-436d-85af-399a13ae8d1b",
   "metadata": {
    "@deathbeds/jupyterlab-fonts": {
     "styles": {
      "": {
       "body[data-jp-deck-mode='presenting'] &": {
        "height": "10.62572337962963%",
        "left": "1.3541666666666667%",
        "position": "fixed",
        "top": "33.15827546296296%",
        "width": "46.25%"
       }
      }
     }
    },
    "slideshow": {
     "slide_type": "fragment"
    },
    "tags": []
   },
   "source": [
    "## ... but only do so much alone"
   ]
  },
  {
   "cell_type": "code",
   "execution_count": null,
   "id": "c8fadfb5-995f-4a80-823f-ce007e6e3cd1",
   "metadata": {
    "@deathbeds/jupyterlab-fonts": {
     "styles": {
      "": {
       "body[data-jp-deck-mode='presenting'] &": {
        "height": "42.68446180555556%",
        "left": "50.10416666666667%",
        "position": "fixed",
        "top": "0.6018518518518519%",
        "width": "48.229166666666664%"
       }
      }
     }
    },
    "slideshow": {
     "slide_type": "fragment"
    },
    "tags": []
   },
   "outputs": [],
   "source": [
    "try:\n",
    "    fib_typed(\"foo\")  # actually have to enter the code\n",
    "except Exception as err:\n",
    "    print(err)"
   ]
  },
  {
   "cell_type": "markdown",
   "id": "752a16fc-2a4d-4ffb-9342-a7d0516152fc",
   "metadata": {
    "@deathbeds/jupyterlab-fonts": {
     "styles": {
      "": {
       "body[data-jp-deck-mode='presenting'] &": {
        "height": "12.405237268518517%",
        "left": "1.4583333333333333%",
        "position": "fixed",
        "top": "44.537760416666664%",
        "width": "50.72916666666667%"
       }
      }
     }
    },
    "slideshow": {
     "slide_type": "fragment"
    },
    "tags": []
   },
   "source": [
    "# **type check** with `beartype`"
   ]
  },
  {
   "cell_type": "code",
   "execution_count": null,
   "id": "5240a6c2-7e3f-42d4-8a2e-eddafd51ffad",
   "metadata": {
    "@deathbeds/jupyterlab-fonts": {
     "styles": {
      "": {
       "body[data-jp-deck-mode='presenting'] &": {
        "height": "26.944444444444443%",
        "left": "1.4583333333333333%",
        "position": "fixed",
        "top": "58.969907407407405%",
        "width": "45.729166666666664%"
       }
      }
     }
    },
    "jupyterlab-deck": {
     "layer": null
    },
    "slideshow": {
     "slide_type": "fragment"
    },
    "tags": []
   },
   "outputs": [],
   "source": [
    "from beartype import beartype\n",
    "\n",
    "@beartype\n",
    "def fib_bear(n: int) -> int:\n",
    "    if n <= 1:\n",
    "        return n\n",
    "    else:\n",
    "        return fib_bear(n - 2) + fib_bear(n - 1)"
   ]
  },
  {
   "cell_type": "code",
   "execution_count": null,
   "id": "7bea054b-8b69-4f2e-b09a-31886a6cdf88",
   "metadata": {
    "@deathbeds/jupyterlab-fonts": {
     "styles": {
      "": {
       "body[data-jp-deck-mode='presenting'] &": {
        "height": "17.685185185185183%",
        "left": "50%",
        "position": "fixed",
        "top": "46.43518518518518%",
        "width": "48.229166666666664%"
       }
      }
     }
    },
    "slideshow": {
     "slide_type": "fragment"
    },
    "tags": []
   },
   "outputs": [],
   "source": [
    "try:\n",
    "    fib_bear(\"bear\")  # rejects bad inputs at the door\n",
    "except Exception as err:\n",
    "    print(err)"
   ]
  },
  {
   "cell_type": "markdown",
   "id": "6b30044d-c1b1-40ef-be6e-3da438694b25",
   "metadata": {
    "@deathbeds/jupyterlab-fonts": {
     "styles": {
      "": {
       "body[data-jp-deck-mode='presenting'] &": {
        "height": "11.38888888888889%",
        "left": "50.312093098958336%",
        "position": "fixed",
        "top": "74.21223958333333%",
        "width": "45%"
       }
      }
     }
    },
    "slideshow": {
     "slide_type": "fragment"
    },
    "tags": []
   },
   "source": [
    "## ...but what does it **cost**?"
   ]
  },
  {
   "cell_type": "markdown",
   "id": "78365269-c640-4cae-8127-527757c885af",
   "metadata": {
    "@deathbeds/jupyterlab-fonts": {
     "styles": {
      "": {
       "body[data-jp-deck-mode='presenting'] &": {
        "height": "0%",
        "left": "2.2916666666666665%",
        "position": "fixed",
        "top": "92.77777777777779%",
        "width": "93.33333333333333%"
       }
      }
     }
    }
   },
   "source": [
    " "
   ]
  },
  {
   "cell_type": "markdown",
   "id": "79617c2b-6f90-4b48-8463-71e2c71713eb",
   "metadata": {
    "@deathbeds/jupyterlab-fonts": {
     "styles": {
      "": {
       "body[data-jp-deck-mode='presenting'] &": {
        "height": "12.405237268518517%",
        "left": "2.2916666666666665%",
        "position": "fixed",
        "top": "3.5655381944444446%",
        "width": "93.33333333333333%"
       }
      }
     }
    },
    "slideshow": {
     "slide_type": "slide"
    },
    "tags": []
   },
   "source": [
    "# **benchmark** with `timeit`"
   ]
  },
  {
   "cell_type": "code",
   "execution_count": null,
   "id": "c043ba93-cff6-45c7-88d0-45f0af2819ac",
   "metadata": {
    "@deathbeds/jupyterlab-fonts": {
     "styles": {
      "": {
       "body[data-jp-deck-mode='presenting'] &": {
        "height": "12.685185185185185%",
        "left": "2.291259765625%",
        "position": "fixed",
        "top": "20.50925925925926%",
        "width": "26.666259765625%"
       }
      }
     }
    },
    "tags": []
   },
   "outputs": [],
   "source": [
    "t0 = %timeit -o fib(10)"
   ]
  },
  {
   "cell_type": "code",
   "execution_count": null,
   "id": "86743793-fcea-4dc1-878a-5b8bff5f8bc6",
   "metadata": {
    "@deathbeds/jupyterlab-fonts": {
     "styles": {
      "": {
       "body[data-jp-deck-mode='presenting'] &": {
        "height": "12.685185185185185%",
        "left": "34.062093098958336%",
        "position": "fixed",
        "top": "20.694444444444443%",
        "width": "27.290445963541664%"
       }
      }
     }
    },
    "slideshow": {
     "slide_type": "fragment"
    },
    "tags": []
   },
   "outputs": [],
   "source": [
    "t1 = %timeit -o fib_typed(10)"
   ]
  },
  {
   "cell_type": "code",
   "execution_count": null,
   "id": "f63496cb-0875-45fb-9ce7-407605bfdfe8",
   "metadata": {
    "@deathbeds/jupyterlab-fonts": {
     "styles": {
      "": {
       "body[data-jp-deck-mode='presenting'] &": {
        "height": "12.685185185185185%",
        "left": "68.12459309895833%",
        "position": "fixed",
        "top": "20.324074074074076%",
        "width": "26.666259765625%"
       }
      }
     }
    },
    "slideshow": {
     "slide_type": "fragment"
    },
    "tags": []
   },
   "outputs": [],
   "source": [
    "t2 = %timeit -o fib_bear(10)"
   ]
  },
  {
   "cell_type": "markdown",
   "id": "ca5d8773-d051-4407-b63e-1d570704929e",
   "metadata": {
    "@deathbeds/jupyterlab-fonts": {
     "styles": {
      "": {
       "body[data-jp-deck-mode='presenting'] &": {
        "height": "9.333043981481481%",
        "left": "46.666666666666664%",
        "position": "fixed",
        "top": "34.40755208333333%",
        "width": "47.8125%"
       }
      }
     }
    },
    "slideshow": {
     "slide_type": "fragment"
    },
    "tags": []
   },
   "source": [
    "## ... are these **type hints** really worth it?"
   ]
  },
  {
   "cell_type": "markdown",
   "id": "13231e4c-ca46-49dd-bce2-be84c2b0bd07",
   "metadata": {
    "@deathbeds/jupyterlab-fonts": {
     "styles": {
      "": {
       "body[data-jp-deck-mode='presenting'] &": {
        "height": "7.466001157407407%",
        "left": "2.0829264322916665%",
        "position": "fixed",
        "top": "39.59997106481482%",
        "width": "43.4375%"
       }
      }
     }
    },
    "slideshow": {
     "slide_type": "fragment"
    },
    "tags": []
   },
   "source": [
    "# **compile** with `mypyc`"
   ]
  },
  {
   "cell_type": "code",
   "execution_count": null,
   "id": "6d38a0ff-8d8d-469e-8f97-13134d9f8e8a",
   "metadata": {
    "@deathbeds/jupyterlab-fonts": {
     "styles": {
      "": {
       "body[data-jp-deck-mode='presenting'] &": {
        "height": "6.388888888888888%",
        "left": "1.978759765625%",
        "position": "fixed",
        "top": "51.80555555555556%",
        "width": "38.4375%"
       }
      }
     }
    },
    "tags": []
   },
   "outputs": [],
   "source": [
    "%reload_ext mypyc_ipython"
   ]
  },
  {
   "cell_type": "code",
   "execution_count": null,
   "id": "7b796fbe-36e5-44e8-b880-4704adcabcf6",
   "metadata": {
    "@deathbeds/jupyterlab-fonts": {
     "styles": {
      "": {
       "body[data-jp-deck-mode='presenting'] &": {
        "height": "20.64814814814815%",
        "left": "2.1875%",
        "position": "fixed",
        "top": "59.72222222222222%",
        "width": "38.229166666666664%"
       }
      }
     }
    },
    "slideshow": {
     "slide_type": "fragment"
    },
    "tags": []
   },
   "outputs": [],
   "source": [
    "%%mypyc\n",
    "def fib_c(n: int) -> int:\n",
    "    if n <= 1:\n",
    "        return n\n",
    "    else:\n",
    "        return fib_c(n - 2) + fib_c(n - 1)"
   ]
  },
  {
   "cell_type": "code",
   "execution_count": null,
   "id": "0d6e105d-af19-44d4-aa44-0c22ce92d85d",
   "metadata": {
    "@deathbeds/jupyterlab-fonts": {
     "styles": {
      "": {
       "body[data-jp-deck-mode='presenting'] &": {
        "height": "12.685185185185185%",
        "left": "46.666666666666664%",
        "position": "fixed",
        "top": "46.249276620370374%",
        "width": "32.916666666666664%"
       }
      }
     }
    },
    "slideshow": {
     "slide_type": "fragment"
    },
    "tags": []
   },
   "outputs": [],
   "source": [
    "t3 = %timeit -o fib_c(10)"
   ]
  },
  {
   "cell_type": "code",
   "execution_count": null,
   "id": "003cacdc-7b27-41c3-b82e-7ed90d6f66da",
   "metadata": {
    "@deathbeds/jupyterlab-fonts": {
     "styles": {
      "": {
       "body[data-jp-deck-mode='presenting'] &": {
        "height": "10.277777777777777%",
        "left": "46.666666666666664%",
        "position": "fixed",
        "top": "61.06409143518518%",
        "width": "49.6875%"
       }
      }
     }
    },
    "slideshow": {
     "slide_type": "fragment"
    },
    "tags": []
   },
   "outputs": [],
   "source": [
    "[\n",
    "    f\"{int(t.average / t3.average)}x\"\n",
    "    for t in [t0, t1, t2]\n",
    "]"
   ]
  },
  {
   "cell_type": "markdown",
   "id": "d8db87bc-9250-499e-901c-7e5a052412ea",
   "metadata": {
    "@deathbeds/jupyterlab-fonts": {
     "styles": {
      "": {
       "body[data-jp-deck-mode='presenting'] &": {
        "height": "4.907407407407407%",
        "left": "1.875%",
        "position": "fixed",
        "top": "85.32407407407408%",
        "width": "93.33333333333333%"
       }
      }
     }
    },
    "tags": []
   },
   "source": [
    " "
   ]
  },
  {
   "cell_type": "markdown",
   "id": "48c62fe0-3e4e-4b7c-a24b-21fbaba0849f",
   "metadata": {
    "@deathbeds/jupyterlab-fonts": {
     "styles": {
      "": {
       "body[data-jp-deck-mode='presenting'] &": {
        "height": "6.245835554371002%",
        "left": "1.1979166666666667%",
        "position": "fixed",
        "top": "1.5625%",
        "width": "43.020833333333336%"
       }
      }
     }
    },
    "slideshow": {
     "slide_type": "slide"
    },
    "tags": []
   },
   "source": [
    "# **profile** with `snakeviz` "
   ]
  },
  {
   "cell_type": "code",
   "execution_count": null,
   "id": "4ee406e4-8ff2-4e8f-a5f0-251a535232aa",
   "metadata": {
    "@deathbeds/jupyterlab-fonts": {
     "styles": {
      "": {
       "body[data-jp-deck-mode='presenting'] &": {
        "height": "46.54441550925926%",
        "left": "1.328125%",
        "position": "fixed",
        "top": "24.82928240740741%",
        "width": "43.046875%"
       }
      }
     }
    },
    "slideshow": {
     "slide_type": "fragment"
    },
    "tags": []
   },
   "outputs": [],
   "source": [
    "%%file fib.py\n",
    "from beartype import beartype\n",
    "\n",
    "def fib_typed(n: int) -> int:\n",
    "    if n <= 1:\n",
    "        return n\n",
    "    else:\n",
    "        return fib_typed(n - 2) + fib_typed(n - 1)\n",
    "\n",
    "@beartype\n",
    "def fib_bear(n: int) -> int:\n",
    "    if n <= 1:\n",
    "        return n\n",
    "    else:\n",
    "        return fib_bear(n - 2) + fib_bear(n - 1)"
   ]
  },
  {
   "cell_type": "code",
   "execution_count": null,
   "id": "a3ece06d-c597-427c-873c-5df4032e6333",
   "metadata": {
    "@deathbeds/jupyterlab-fonts": {
     "styles": {
      "": {
       "body[data-jp-deck-mode='presenting'] &": {
        "height": "154.3041087962963%",
        "left": "46.09375%",
        "position": "fixed",
        "top": "-0.8007812499999999%",
        "width": "53.593343098958336%",
        "zoom": null
       }
      }
     }
    },
    "slideshow": {
     "slide_type": "fragment"
    },
    "tags": []
   },
   "outputs": [],
   "source": [
    "%reload_ext snakeviz\n",
    "%snakeviz import fib; fib.fib_typed(20); fib.fib_bear(20)"
   ]
  },
  {
   "cell_type": "markdown",
   "id": "bc206e54-168c-4948-800b-03e610dd4052",
   "metadata": {
    "@deathbeds/jupyterlab-fonts": {
     "styles": {
      "": {
       "body[data-jp-deck-mode='presenting'] &": {
        "height": "0%",
        "left": "1.953125%",
        "position": "fixed",
        "top": "92.266669921875%",
        "width": "95%"
       }
      }
     }
    }
   },
   "source": [
    " "
   ]
  },
  {
   "cell_type": "markdown",
   "id": "58f12a22-34e9-448d-a4c3-1833a34ad94f",
   "metadata": {
    "@deathbeds/jupyterlab-fonts": {
     "styles": {
      "": {
       "body[data-jp-deck-mode='presenting'] &": {
        "height": "12.405237268518517%",
        "left": "2.9166666666666665%",
        "position": "fixed",
        "top": "2.8247974537037037%",
        "width": "93.33333333333333%"
       }
      }
     }
    },
    "slideshow": {
     "slide_type": "slide"
    },
    "tags": []
   },
   "source": [
    "# **fuzz** test with `atheris`"
   ]
  },
  {
   "cell_type": "code",
   "execution_count": null,
   "id": "0acf25dd-3bd1-48e9-9c6e-34242a032b70",
   "metadata": {
    "@deathbeds/jupyterlab-fonts": {
     "styles": {
      "": {
       "body[data-jp-deck-mode='presenting'] &": {
        "height": "42.68518518518519%",
        "left": "2.9166666666666665%",
        "position": "fixed",
        "top": "18.10185185185185%",
        "width": "35.9375%"
       }
      }
     }
    },
    "tags": []
   },
   "outputs": [],
   "source": [
    "%%file fuzz.py\n",
    "import atheris\n",
    "\n",
    "with atheris.instrument_imports():\n",
    "    import fib\n",
    "    import sys\n",
    "\n",
    "def TestOneInput(data):\n",
    "    fdp = atheris.FuzzedDataProvider(data)\n",
    "    fib.fib_typed(fdp.ConsumeInt(1))\n",
    "\n",
    "atheris.Setup(sys.argv, TestOneInput)\n",
    "atheris.Fuzz()"
   ]
  },
  {
   "cell_type": "code",
   "execution_count": null,
   "id": "aa83290b-04ca-46c5-af3e-bb43e058a6ee",
   "metadata": {
    "@deathbeds/jupyterlab-fonts": {
     "styles": {
      "": {
       "body[data-jp-deck-mode='presenting'] &": {
        "height": "59.351851851851855%",
        "left": "39.58333333333333%",
        "position": "fixed",
        "top": "17.961516203703702%",
        "width": "56.458333333333336%"
       }
      }
     }
    },
    "scrolled": true,
    "tags": []
   },
   "outputs": [],
   "source": [
    "!coverage run --branch --source fib fuzz.py -atheris_runs=3\n",
    "!coverage html"
   ]
  },
  {
   "cell_type": "markdown",
   "id": "2214866d-3281-4637-bb01-0ebbcb5d281b",
   "metadata": {
    "slideshow": {
     "slide_type": "slide"
    },
    "tags": []
   },
   "source": [
    "# Up the stack\n",
    "\n",
    "[A simple web app](./02-app.ipynb)"
   ]
  }
 ],
 "metadata": {
  "kernelspec": {
   "display_name": "Python 3 (ipykernel)",
   "language": "python",
   "name": "python3"
  },
  "language_info": {
   "codemirror_mode": {
    "name": "ipython",
    "version": 3
   },
   "file_extension": ".py",
   "mimetype": "text/x-python",
   "name": "python",
   "nbconvert_exporter": "python",
   "pygments_lexer": "ipython3",
   "version": "3.10.6"
  },
  "toc-autonumbering": true
 },
 "nbformat": 4,
 "nbformat_minor": 5
}
