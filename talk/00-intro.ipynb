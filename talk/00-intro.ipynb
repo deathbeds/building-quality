{
 "cells": [
  {
   "cell_type": "markdown",
   "id": "821435eb-3eec-4efb-a07e-6bc56a618507",
   "metadata": {
    "@deathbeds/jupyterlab-fonts": {
     "styles": {
      "": {
       "body[data-jp-deck-mode='presenting'] &": {
        "height": "45.93894675925926%",
        "left": "0.4166666666666667%",
        "position": "fixed",
        "top": "41.66015625%",
        "width": "27.395833333333336%"
       }
      }
     }
    }
   },
   "source": [
    "# building quality\n",
    "\n",
    "_a [`@deathbeds`](https://github.com/deathbeds) talk for [pymntos](https://www.meetup.com/pymntos-twin-cities-python-user-group) about tools for python quality_"
   ]
  },
  {
   "cell_type": "markdown",
   "id": "f23bc486-e4ab-4b7d-a5c3-e1c97e3bc488",
   "metadata": {
    "@deathbeds/jupyterlab-fonts": {
     "styles": {
      "": {
       "body[data-jp-deck-mode='presenting'] &": {
        "height": "84.14713541666666%",
        "left": "26.041666666666668%",
        "position": "fixed",
        "top": "6.30931712962963%",
        "width": "74.63541666666667%"
       }
      }
     }
    },
    "jupyterlab-deck": {
     "layer": "slide"
    },
    "tags": []
   },
   "source": [
    "![](./img/sim-city-mac-1989-06.gif)"
   ]
  },
  {
   "cell_type": "markdown",
   "id": "9a4af0c7-3b29-4feb-b4e9-4f4c982cd19f",
   "metadata": {
    "slideshow": {
     "slide_type": "slide"
    },
    "tags": []
   },
   "source": [
    "# the plan"
   ]
  },
  {
   "cell_type": "markdown",
   "id": "5a813b77-9f15-4a8d-a524-0b0634a2b7b4",
   "metadata": {
    "slideshow": {
     "slide_type": "fragment"
    },
    "tags": []
   },
   "source": [
    "- a quick overview of ways to measure, and improve python code quality"
   ]
  },
  {
   "cell_type": "markdown",
   "id": "b3c695cd-744a-4080-9e59-20e2fa154597",
   "metadata": {
    "slideshow": {
     "slide_type": "fragment"
    },
    "tags": []
   },
   "source": [
    "- a demo of a bunch of tools"
   ]
  },
  {
   "cell_type": "markdown",
   "id": "1446dab0-420d-4f4f-a0a2-02b45885ccbe",
   "metadata": {
    "slideshow": {
     "slide_type": "fragment"
    },
    "tags": []
   },
   "source": [
    "- questions at any time!"
   ]
  },
  {
   "cell_type": "markdown",
   "id": "f67d6fdd-ff15-4cef-9a81-29a01fb85975",
   "metadata": {},
   "source": [
    " "
   ]
  },
  {
   "cell_type": "markdown",
   "id": "a2201832-8c84-4e3c-84d3-bf4607f5fbe4",
   "metadata": {
    "@deathbeds/jupyterlab-fonts": {
     "styles": {
      "": {
       "body[data-jp-deck-mode='presenting'] &": {
        "height": "8.959056712962964%",
        "left": "0.9375%",
        "position": "fixed",
        "top": "40.890480324074076%",
        "width": "35.832926432291664%"
       }
      }
     }
    },
    "slideshow": {
     "slide_type": "slide"
    },
    "tags": []
   },
   "source": [
    "# a taxonomy of quality tasks\n",
    "\n",
    "_“If we fail, we fall. If we succeed – then we will face the next task.”— Gandalf (Tolkien)_"
   ]
  },
  {
   "cell_type": "markdown",
   "id": "c94a289b-a5ea-42af-99b2-271d000402c9",
   "metadata": {
    "@deathbeds/jupyterlab-fonts": {
     "styles": {
      "": {
       "body[data-jp-deck-mode='presenting'] &": {
        "height": "208.19227430555554%",
        "left": "42.291666666666664%",
        "position": "fixed",
        "top": "-12.75390625%",
        "width": "45.78125%"
       }
      }
     }
    },
    "jupyterlab-deck": {
     "layer": "slide"
    },
    "tags": []
   },
   "source": [
    "![](./img/Tree_of_life_by_Haeckel.jpg)"
   ]
  },
  {
   "cell_type": "markdown",
   "id": "81550518-c5bb-424c-925d-0d037c4497e5",
   "metadata": {
    "@deathbeds/jupyterlab-fonts": {
     "styles": {
      "": {
       "body[data-jp-deck-mode='presenting'] &": {
        "height": "23.10691550925926%",
        "left": "2.7083333333333335%",
        "position": "fixed",
        "top": "29.835069444444446%",
        "width": "27.083333333333332%"
       }
      }
     }
    },
    "slideshow": {
     "slide_type": "subslide"
    },
    "tags": []
   },
   "source": [
    "### test\n",
    "\n",
    "_“Right or wrong, it’s very pleasant to break something from time to time.” — Fyodor Dostoevsky_"
   ]
  },
  {
   "cell_type": "markdown",
   "id": "8a83716b-62b2-4b5f-a43d-453046eef728",
   "metadata": {
    "@deathbeds/jupyterlab-fonts": {
     "styles": {
      "": {
       "body[data-jp-deck-mode='presenting'] &": {
        "height": "56.2037037037037%",
        "left": "33.125%",
        "position": "fixed",
        "top": "14.469762731481481%",
        "width": "63.33333333333333%"
       }
      }
     }
    },
    "slideshow": {
     "slide_type": "fragment"
    },
    "tags": []
   },
   "source": [
    "| type           | does the ...           | ... correctly          | e.g.                 |\n",
    "|----------------|:----------------------:|:----------------------:|----------------------|\n",
    "| unit           | smallest piece of code | work                   | `doctest`            |\n",
    "| property-based | smallest piece of code | maintain invariants    | `hypothesis`         |\n",
    "| integration    | part                   | work                   | `pytest`             |\n",
    "| acceptance     | whole system           | work                   | `robotframework`     |\n",
    "| accessibility  | whole system           | work for everyone      | WAVE                 |\n",
    "| mutation       | whole system           | not work if broken     | `mutpy`              |\n",
    "| load           | whole system           | work at scale          | `locust`             |\n",
    "| fuzz           | whole system           | not crash on garbage   | `atheris`            |\n",
    "| regression     | whole system           | work like it used to   | `pytest-regressions` |\n",
    "| conformance    | whole system           | conform to a spec      | `schemathesis`       |"
   ]
  },
  {
   "cell_type": "markdown",
   "id": "94b7fb20-34ec-490d-8eef-57f012cb36b4",
   "metadata": {
    "@deathbeds/jupyterlab-fonts": {
     "styles": {
      "": {
       "body[data-jp-deck-mode='presenting'] &": {
        "height": "23.762297453703702%",
        "left": "1.041259765625%",
        "position": "fixed",
        "top": "35.89482060185185%",
        "width": "27.187499999999996%"
       }
      }
     }
    },
    "slideshow": {
     "slide_type": "subslide"
    },
    "tags": []
   },
   "source": [
    "### measure\n",
    "\n",
    "_“Quality means doing it right even when no one is looking.” — Henry Ford_"
   ]
  },
  {
   "cell_type": "markdown",
   "id": "7f346724-3296-46b4-bcc1-bff7bbe73a41",
   "metadata": {
    "@deathbeds/jupyterlab-fonts": {
     "styles": {
      "": {
       "body[data-jp-deck-mode='presenting'] &": {
        "height": "72.5%",
        "left": "33.75%",
        "position": "fixed",
        "top": "15.260416666666668%",
        "width": "62.916666666666664%"
       }
      }
     }
    },
    "slideshow": {
     "slide_type": "fragment"
    },
    "tags": []
   },
   "source": [
    "| type           | does the ...              | ... correctly               | e.g.           |\n",
    "|----------------|:-------------------------:|:---------------------------:|----------------|\n",
    "| type inference | whole codebase            | have type                   | `monkeytype`   |\n",
    "| formatting     | whole codebase            | look                        | `black`        |\n",
    "| linting        | whole codebase            | not contain code issues     | `pylint`       |\n",
    "| typechecking   | whole codebase            | type                        | `mypy`         |\n",
    "| coverage       | codebase                  | get tested                  | `coverage`     |\n",
    "| benchmark      | performance               | maintain                    | `asv`          |\n",
    "| tracing        | set of instrumented parts | get called appropriately    | `opencensus-*` |   \n",
    "| profiling      | code that gets called     | doesn't get called too much | `snakeviz`     |   \n",
    "| reproduce      | whole enviroment          | install repeatably          | `conda-lock`   |\n",
    "| audit          | set of dependencies       | not contain vulnerabilities | `jake`         |"
   ]
  },
  {
   "cell_type": "markdown",
   "id": "fc86a4f8-f0b8-4ca6-8d37-127a4217da4c",
   "metadata": {
    "slideshow": {
     "slide_type": "slide"
    },
    "tags": []
   },
   "source": [
    "# Next"
   ]
  },
  {
   "cell_type": "markdown",
   "id": "c8ca4523-7816-4bed-8a6d-bf5758272026",
   "metadata": {},
   "source": [
    "[A Simple Function](./01-function.ipynb)"
   ]
  }
 ],
 "metadata": {
  "kernelspec": {
   "display_name": "Python 3 (ipykernel)",
   "language": "python",
   "name": "python3"
  },
  "language_info": {
   "codemirror_mode": {
    "name": "ipython",
    "version": 3
   },
   "file_extension": ".py",
   "mimetype": "text/x-python",
   "name": "python",
   "nbconvert_exporter": "python",
   "pygments_lexer": "ipython3",
   "version": "3.10.9"
  }
 },
 "nbformat": 4,
 "nbformat_minor": 5
}
