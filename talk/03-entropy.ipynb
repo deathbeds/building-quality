{
 "cells": [
  {
   "cell_type": "markdown",
   "id": "e0fd86b1-dd23-428e-a3e5-85009df594f0",
   "metadata": {
    "@deathbeds/jupyterlab-fonts": {
     "styles": {
      "": {
       "body[data-jp-deck-mode='presenting'] &": {
        "height": "27.392057569296373%",
        "left": "1.353759765625%",
        "position": "fixed",
        "top": "32.039578891257996%",
        "width": "33.85416666666667%"
       }
      }
     }
    }
   },
   "source": [
    "# \"controlling\" entropy\n",
    "\n",
    "> _“No structure, even an artificial one, enjoys the process of entropy. It is the ultimate fate of everything, and everything resists it.” ― Philip K. Dick_"
   ]
  },
  {
   "cell_type": "markdown",
   "id": "cc8aac98-1752-4fa5-bfb6-8c2238808aa8",
   "metadata": {
    "@deathbeds/jupyterlab-fonts": {
     "styles": {
      "": {
       "body[data-jp-deck-mode='presenting'] &": {
        "height": "81.83159722222221%",
        "left": "34.583333333333336%",
        "position": "fixed",
        "top": "10.893373842592592%",
        "width": "64.010009765625%"
       }
      }
     }
    },
    "jupyterlab-deck": {
     "layer": "slide"
    },
    "tags": []
   },
   "source": [
    "![](./img/Image_20221110_154204_092.jpeg)"
   ]
  },
  {
   "cell_type": "markdown",
   "id": "aca1ae7f-ea67-4daf-bb1f-70fef1bb051f",
   "metadata": {
    "@deathbeds/jupyterlab-fonts": {
     "styles": {
      "": {
       "body[data-jp-deck-mode='presenting'] &": {
        "height": "10.751591435185185%",
        "left": "1.7708333333333333%",
        "position": "fixed",
        "top": "1.4756944444444444%",
        "width": "93.33333333333333%"
       }
      }
     }
    },
    "slideshow": {
     "slide_type": "slide"
    },
    "tags": []
   },
   "source": [
    "# **format** code"
   ]
  },
  {
   "cell_type": "markdown",
   "id": "fb48f17b-c1f9-4ebd-8276-9f51d3028ba2",
   "metadata": {
    "@deathbeds/jupyterlab-fonts": {
     "styles": {
      "": {
       "body[data-jp-deck-mode='presenting'] &": {
        "height": "10.337094907407407%",
        "left": "0.20833333333333334%",
        "position": "fixed",
        "top": "15.849971064814813%",
        "width": "37.812093098958336%"
       }
      }
     }
    },
    "slideshow": {
     "slide_type": "fragment"
    },
    "tags": []
   },
   "source": [
    "## ...with `isort`\n",
    "> for _imports_"
   ]
  },
  {
   "cell_type": "code",
   "execution_count": null,
   "id": "1d70f90a-713a-4ba5-a6d7-c492975434ae",
   "metadata": {
    "@deathbeds/jupyterlab-fonts": {
     "styles": {
      "": {
       "body[data-jp-deck-mode='presenting'] &": {
        "height": "5.092592592592593%",
        "left": "39.0625%",
        "position": "fixed",
        "top": "16.99001736111111%",
        "width": "61.978759765625%"
       }
      }
     }
    },
    "slideshow": {
     "slide_type": "fragment"
    },
    "tags": []
   },
   "outputs": [],
   "source": [
    "!isort *.py"
   ]
  },
  {
   "cell_type": "markdown",
   "id": "0ae085fa-f604-403f-8b1b-e1241ac240d8",
   "metadata": {
    "@deathbeds/jupyterlab-fonts": {
     "styles": {
      "": {
       "body[data-jp-deck-mode='presenting'] &": {
        "height": "10.337094907407407%",
        "left": "0.20833333333333334%",
        "position": "fixed",
        "top": "32.146267361111114%",
        "width": "37.707926432291664%"
       }
      }
     }
    },
    "slideshow": {
     "slide_type": "fragment"
    },
    "tags": []
   },
   "source": [
    "## ... with `docformatter`\n",
    "\n",
    "> for _docstrings_"
   ]
  },
  {
   "cell_type": "code",
   "execution_count": null,
   "id": "4016ea7c-576b-49f6-9cda-aa0fa94f793b",
   "metadata": {
    "@deathbeds/jupyterlab-fonts": {
     "styles": {
      "": {
       "body[data-jp-deck-mode='presenting'] &": {
        "height": "5.092592592592593%",
        "left": "39.0625%",
        "position": "fixed",
        "top": "31.99001736111111%",
        "width": "61.978759765625%"
       }
      }
     }
    },
    "slideshow": {
     "slide_type": "fragment"
    },
    "tags": []
   },
   "outputs": [],
   "source": [
    "!docformatter -i *.py"
   ]
  },
  {
   "cell_type": "markdown",
   "id": "88220a79-c6ab-4136-ae9b-a3cd84334092",
   "metadata": {
    "@deathbeds/jupyterlab-fonts": {
     "styles": {
      "": {
       "body[data-jp-deck-mode='presenting'] &": {
        "height": "10.337094907407407%",
        "left": "0.3125%",
        "position": "fixed",
        "top": "48.99811921296296%",
        "width": "37.812093098958336%"
       }
      }
     }
    },
    "slideshow": {
     "slide_type": "fragment"
    },
    "tags": []
   },
   "source": [
    "## ... with `ssort`\n",
    "> for _statements_ "
   ]
  },
  {
   "cell_type": "code",
   "execution_count": null,
   "id": "24539d92-588f-4f92-9208-2baa21b8be18",
   "metadata": {
    "@deathbeds/jupyterlab-fonts": {
     "styles": {
      "": {
       "body[data-jp-deck-mode='presenting'] &": {
        "height": "9.166666666666666%",
        "left": "39.0625%",
        "position": "fixed",
        "top": "49.02777777777778%",
        "width": "60.9375%"
       }
      }
     }
    },
    "slideshow": {
     "slide_type": "fragment"
    },
    "tags": []
   },
   "outputs": [],
   "source": [
    "!ssort *.py"
   ]
  },
  {
   "cell_type": "markdown",
   "id": "3621ad50-bfb3-4cf1-84c0-770b98f11314",
   "metadata": {
    "@deathbeds/jupyterlab-fonts": {
     "styles": {
      "": {
       "body[data-jp-deck-mode='presenting'] &": {
        "height": "11.38888888888889%",
        "left": "0.4166666666666667%",
        "position": "fixed",
        "top": "65.32407407407408%",
        "width": "38.54166666666667%"
       }
      }
     }
    },
    "slideshow": {
     "slide_type": "fragment"
    },
    "tags": []
   },
   "source": [
    "## ... with `black`\n",
    "\n",
    "> for _everything else_"
   ]
  },
  {
   "cell_type": "code",
   "execution_count": null,
   "id": "49291481-e421-4234-a535-bb6c5592c75f",
   "metadata": {
    "@deathbeds/jupyterlab-fonts": {
     "styles": {
      "": {
       "body[data-jp-deck-mode='presenting'] &": {
        "height": "11.38888888888889%",
        "left": "39.0625%",
        "position": "fixed",
        "top": "65.18518518518519%",
        "width": "59.791666666666664%"
       }
      }
     }
    }
   },
   "outputs": [],
   "source": [
    "!black *.py"
   ]
  },
  {
   "cell_type": "markdown",
   "id": "8b6cb3ef-a7d4-4abe-8857-7243986dd35f",
   "metadata": {
    "@deathbeds/jupyterlab-fonts": {
     "styles": {
      "": {
       "body[data-jp-deck-mode='presenting'] &": {
        "height": "3.943865740740741%",
        "left": "2.7083333333333335%",
        "position": "fixed",
        "top": "90.13888888888889%",
        "width": "93.33333333333333%"
       }
      }
     }
    },
    "tags": []
   },
   "source": [
    " "
   ]
  },
  {
   "cell_type": "markdown",
   "id": "1154409e-1752-4bc2-b3a4-28f16f6c1020",
   "metadata": {
    "@deathbeds/jupyterlab-fonts": {
     "styles": {
      "": {
       "body[data-jp-deck-mode='presenting'] &": {
        "height": "10.751591435185185%",
        "left": "1.0416666666666665%",
        "position": "fixed",
        "top": "0.6155960648148149%",
        "width": "93.33333333333333%"
       }
      }
     }
    },
    "slideshow": {
     "slide_type": "slide"
    },
    "tags": []
   },
   "source": [
    "# **lint** code"
   ]
  },
  {
   "cell_type": "markdown",
   "id": "90e18ddb-0305-41e1-a4e0-934785cc5746",
   "metadata": {
    "@deathbeds/jupyterlab-fonts": {
     "styles": {
      "": {
       "body[data-jp-deck-mode='presenting'] &": {
        "height": "18.86935763888889%",
        "left": "1.041259765625%",
        "position": "fixed",
        "top": "8.76953125%",
        "width": "33.020426432291664%"
       }
      }
     }
    },
    "slideshow": {
     "slide_type": "fragment"
    },
    "tags": []
   },
   "source": [
    "## ... with `pydocstyle`\n",
    "\n",
    "> for docstrings"
   ]
  },
  {
   "cell_type": "code",
   "execution_count": null,
   "id": "7c03103a-ce2d-48c8-951d-27b29e720e6a",
   "metadata": {
    "@deathbeds/jupyterlab-fonts": {
     "styles": {
      "": {
       "body[data-jp-deck-mode='presenting'] &": {
        "height": "43.795572916666664%",
        "left": "1.041259765625%",
        "position": "fixed",
        "top": "26.51909722222222%",
        "width": "30.885416666666664%"
       }
      }
     }
    },
    "scrolled": true,
    "tags": []
   },
   "outputs": [],
   "source": [
    "!pydocstyle *.py"
   ]
  },
  {
   "cell_type": "markdown",
   "id": "ae181bcf-b202-4d12-8d22-0d6d7fd27b77",
   "metadata": {
    "@deathbeds/jupyterlab-fonts": {
     "styles": {
      "": {
       "body[data-jp-deck-mode='presenting'] &": {
        "height": "14.424913194444445%",
        "left": "31.978759765624996%",
        "position": "fixed",
        "top": "8.94458912037037%",
        "width": "29.895833333333332%"
       }
      }
     }
    },
    "slideshow": {
     "slide_type": "fragment"
    },
    "tags": []
   },
   "source": [
    "## ... with `pyflakes`\n",
    "\n",
    "> for obvious stuff"
   ]
  },
  {
   "cell_type": "code",
   "execution_count": null,
   "id": "211bd7b2-9f89-4df6-8148-2262dd873359",
   "metadata": {
    "@deathbeds/jupyterlab-fonts": {
     "styles": {
      "": {
       "body[data-jp-deck-mode='presenting'] &": {
        "height": "10.092592592592593%",
        "left": "33.125%",
        "position": "fixed",
        "top": "26.712239583333336%",
        "width": "26.25%"
       }
      }
     }
    },
    "jupyterlab-deck": {
     "layer": null
    },
    "scrolled": true,
    "tags": []
   },
   "outputs": [],
   "source": [
    "!pyflakes *.py"
   ]
  },
  {
   "cell_type": "markdown",
   "id": "3b65da11-081b-4cc7-8da5-16a5d3bee7a4",
   "metadata": {
    "@deathbeds/jupyterlab-fonts": {
     "styles": {
      "": {
       "body[data-jp-deck-mode='presenting'] &": {
        "height": "15.72120949074074%",
        "left": "60.83333333333333%",
        "position": "fixed",
        "top": "9.092158564814815%",
        "width": "34.84375%"
       }
      }
     }
    },
    "slideshow": {
     "slide_type": "fragment"
    },
    "tags": []
   },
   "source": [
    "## ... with `pylint`\n",
    "\n",
    "> for super pedantic stuff"
   ]
  },
  {
   "cell_type": "code",
   "execution_count": null,
   "id": "c205e32e-2599-499c-b578-1742c1416b44",
   "metadata": {
    "@deathbeds/jupyterlab-fonts": {
     "styles": {
      "": {
       "body[data-jp-deck-mode='presenting'] &": {
        "height": "60.83333333333333%",
        "left": "60.729166666666664%",
        "position": "fixed",
        "top": "26.341145833333336%",
        "width": "34.947916666666664%"
       }
      }
     }
    },
    "scrolled": true,
    "tags": []
   },
   "outputs": [],
   "source": [
    "!pylint *.py"
   ]
  },
  {
   "cell_type": "markdown",
   "id": "55d046de-8748-4492-b274-e505516a3610",
   "metadata": {
    "@deathbeds/jupyterlab-fonts": {
     "styles": {
      "": {
       "body[data-jp-deck-mode='presenting'] &": {
        "height": "-36.2962962962963%",
        "left": "3.3333333333333335%",
        "position": "fixed",
        "top": "93.7037037037037%",
        "width": "93.33333333333333%"
       }
      }
     }
    },
    "tags": []
   },
   "source": [
    " "
   ]
  },
  {
   "cell_type": "markdown",
   "id": "144c78b0-e186-458e-9b9b-f9107184bb81",
   "metadata": {
    "@deathbeds/jupyterlab-fonts": {
     "styles": {
      "": {
       "body[data-jp-deck-mode='presenting'] &": {
        "height": "11.56467013888889%",
        "left": "2.3958333333333335%",
        "position": "fixed",
        "top": "3.7839988425925926%",
        "width": "75.52083333333334%"
       }
      }
     }
    },
    "slideshow": {
     "slide_type": "slide"
    },
    "tags": []
   },
   "source": [
    "# **lock** dependencies with `conda-lock`"
   ]
  },
  {
   "cell_type": "code",
   "execution_count": null,
   "id": "ba852f65-76e1-4cb4-846a-c743f324bcdc",
   "metadata": {
    "@deathbeds/jupyterlab-fonts": {
     "styles": {
      "": {
       "body[data-jp-deck-mode='presenting'] &": {
        "height": "52.771855010660985%",
        "left": "2.604166666666667%",
        "position": "fixed",
        "top": "16.417910447761194%",
        "width": "45.416666666666664%"
       }
      }
     }
    },
    "slideshow": {
     "slide_type": "fragment"
    },
    "tags": []
   },
   "outputs": [],
   "source": [
    "!conda-lock --kind explicit --file ../.binder/environment.yml --platform linux-64"
   ]
  },
  {
   "cell_type": "code",
   "execution_count": null,
   "id": "97f9a582-1e11-45f6-b6fb-5d474ae2bdf6",
   "metadata": {
    "@deathbeds/jupyterlab-fonts": {
     "styles": {
      "": {
       "body[data-jp-deck-mode='presenting'] &": {
        "height": "71.96108217592592%",
        "left": "50.208333333333336%",
        "position": "fixed",
        "top": "16.68402777777778%",
        "width": "48.645833333333336%"
       }
      }
     }
    },
    "scrolled": true,
    "slideshow": {
     "slide_type": "fragment"
    },
    "tags": []
   },
   "outputs": [],
   "source": [
    "!cat conda-linux-64.lock"
   ]
  },
  {
   "cell_type": "markdown",
   "id": "f83c4704-8f54-4365-ba9f-644e7effe208",
   "metadata": {
    "@deathbeds/jupyterlab-fonts": {
     "styles": {
      "": {
       "body[data-jp-deck-mode='presenting'] &": {
        "height": "-36.2962962962963%",
        "left": "3.3333333333333335%",
        "position": "fixed",
        "top": "93.7037037037037%",
        "width": "93.33333333333333%"
       }
      }
     }
    },
    "tags": []
   },
   "source": [
    " "
   ]
  },
  {
   "cell_type": "markdown",
   "id": "c6135233-6b17-43ac-878b-fd3864d23575",
   "metadata": {
    "@deathbeds/jupyterlab-fonts": {
     "styles": {
      "": {
       "body[data-jp-deck-mode='presenting'] &": {
        "height": "12.405237268518517%",
        "left": "2.9166666666666665%",
        "position": "fixed",
        "top": "3.1951678240740744%",
        "width": "93.33333333333333%"
       }
      }
     }
    },
    "slideshow": {
     "slide_type": "slide"
    },
    "tags": []
   },
   "source": [
    "# find **vulnerabilities** with `jake`"
   ]
  },
  {
   "cell_type": "code",
   "execution_count": null,
   "id": "6b25ffd7-2363-4f63-9e0b-cb0d13711e4a",
   "metadata": {
    "@deathbeds/jupyterlab-fonts": {
     "styles": {
      "": {
       "body[data-jp-deck-mode='presenting'] &": {
        "height": "59.72222222222222%",
        "left": "2.7083333333333335%",
        "position": "fixed",
        "top": "16.99001736111111%",
        "width": "93.4375%"
       }
      }
     }
    },
    "scrolled": true,
    "tags": []
   },
   "outputs": [],
   "source": [
    "!jake ddt"
   ]
  },
  {
   "cell_type": "markdown",
   "id": "bf4a3a15-9c00-4fdc-9004-6b139bf9025f",
   "metadata": {
    "@deathbeds/jupyterlab-fonts": {
     "styles": {
      "": {
       "body[data-jp-deck-mode='presenting'] &": {
        "height": "0%",
        "left": "3.3333333333333335%",
        "position": "fixed",
        "top": "50%",
        "width": "93.33333333333333%"
       }
      }
     }
    }
   },
   "source": [
    " "
   ]
  },
  {
   "cell_type": "markdown",
   "id": "a4333631-cd62-4737-af84-f31dbe7f956c",
   "metadata": {
    "slideshow": {
     "slide_type": "slide"
    },
    "tags": []
   },
   "source": [
    "# thanks for watching!"
   ]
  },
  {
   "cell_type": "markdown",
   "id": "a289a444-795b-435b-abce-60f9fdf5c899",
   "metadata": {
    "slideshow": {
     "slide_type": "fragment"
    },
    "tags": []
   },
   "source": [
    "> see the repo on GitHub\n",
    "\n",
    "      https://github.com/deathbeds/building-quality"
   ]
  }
 ],
 "metadata": {
  "kernelspec": {
   "display_name": "Python 3 (ipykernel)",
   "language": "python",
   "name": "python3"
  },
  "language_info": {
   "codemirror_mode": {
    "name": "ipython",
    "version": 3
   },
   "file_extension": ".py",
   "mimetype": "text/x-python",
   "name": "python",
   "nbconvert_exporter": "python",
   "pygments_lexer": "ipython3",
   "version": "3.10.6"
  }
 },
 "nbformat": 4,
 "nbformat_minor": 5
}
